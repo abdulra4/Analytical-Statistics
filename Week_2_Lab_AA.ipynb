{
 "cells": [
  {
   "cell_type": "markdown",
   "metadata": {},
   "source": [
    "# Week 2 - Lab Session 3\n",
    "\n",
    "In this lab session we are going to look at how to calculate confidence intervals and run a t-test using Python. \n",
    "\n",
    "As per last week, you should start by running the existing cells which will load in some libraries and a required dataset. Note that these cells may throw a 'FutureWarning' which can be safely ignored. "
   ]
  },
  {
   "cell_type": "code",
   "execution_count": 1,
   "metadata": {},
   "outputs": [],
   "source": [
    "import statsmodels.api as sm\n",
    "import pandas as pd\n",
    "import scipy as sp\n",
    "import numpy as np"
   ]
  },
  {
   "cell_type": "code",
   "execution_count": 2,
   "metadata": {},
   "outputs": [],
   "source": [
    "df = sm.datasets.cpunish.load_pandas().data"
   ]
  },
  {
   "cell_type": "code",
   "execution_count": 3,
   "metadata": {},
   "outputs": [
    {
     "data": {
      "text/html": [
       "<div>\n",
       "<style scoped>\n",
       "    .dataframe tbody tr th:only-of-type {\n",
       "        vertical-align: middle;\n",
       "    }\n",
       "\n",
       "    .dataframe tbody tr th {\n",
       "        vertical-align: top;\n",
       "    }\n",
       "\n",
       "    .dataframe thead th {\n",
       "        text-align: right;\n",
       "    }\n",
       "</style>\n",
       "<table border=\"1\" class=\"dataframe\">\n",
       "  <thead>\n",
       "    <tr style=\"text-align: right;\">\n",
       "      <th></th>\n",
       "      <th>EXECUTIONS</th>\n",
       "      <th>INCOME</th>\n",
       "      <th>PERPOVERTY</th>\n",
       "      <th>PERBLACK</th>\n",
       "      <th>VC100k96</th>\n",
       "      <th>SOUTH</th>\n",
       "      <th>DEGREE</th>\n",
       "    </tr>\n",
       "  </thead>\n",
       "  <tbody>\n",
       "    <tr>\n",
       "      <th>count</th>\n",
       "      <td>17.000000</td>\n",
       "      <td>17.000000</td>\n",
       "      <td>17.000000</td>\n",
       "      <td>17.000000</td>\n",
       "      <td>17.000000</td>\n",
       "      <td>17.000000</td>\n",
       "      <td>17.000000</td>\n",
       "    </tr>\n",
       "    <tr>\n",
       "      <th>mean</th>\n",
       "      <td>4.352941</td>\n",
       "      <td>35462.705882</td>\n",
       "      <td>13.494118</td>\n",
       "      <td>14.258824</td>\n",
       "      <td>638.764706</td>\n",
       "      <td>0.411765</td>\n",
       "      <td>0.221765</td>\n",
       "    </tr>\n",
       "    <tr>\n",
       "      <th>std</th>\n",
       "      <td>8.695841</td>\n",
       "      <td>4939.735491</td>\n",
       "      <td>3.456781</td>\n",
       "      <td>9.793943</td>\n",
       "      <td>233.578555</td>\n",
       "      <td>0.507300</td>\n",
       "      <td>0.045721</td>\n",
       "    </tr>\n",
       "    <tr>\n",
       "      <th>min</th>\n",
       "      <td>1.000000</td>\n",
       "      <td>26954.000000</td>\n",
       "      <td>8.200000</td>\n",
       "      <td>1.800000</td>\n",
       "      <td>321.000000</td>\n",
       "      <td>0.000000</td>\n",
       "      <td>0.160000</td>\n",
       "    </tr>\n",
       "    <tr>\n",
       "      <th>25%</th>\n",
       "      <td>1.000000</td>\n",
       "      <td>32108.000000</td>\n",
       "      <td>10.600000</td>\n",
       "      <td>7.200000</td>\n",
       "      <td>463.000000</td>\n",
       "      <td>0.000000</td>\n",
       "      <td>0.190000</td>\n",
       "    </tr>\n",
       "    <tr>\n",
       "      <th>50%</th>\n",
       "      <td>1.000000</td>\n",
       "      <td>34743.000000</td>\n",
       "      <td>13.100000</td>\n",
       "      <td>12.200000</td>\n",
       "      <td>591.000000</td>\n",
       "      <td>0.000000</td>\n",
       "      <td>0.210000</td>\n",
       "    </tr>\n",
       "    <tr>\n",
       "      <th>75%</th>\n",
       "      <td>3.000000</td>\n",
       "      <td>37421.000000</td>\n",
       "      <td>16.400000</td>\n",
       "      <td>20.000000</td>\n",
       "      <td>886.000000</td>\n",
       "      <td>1.000000</td>\n",
       "      <td>0.250000</td>\n",
       "    </tr>\n",
       "    <tr>\n",
       "      <th>max</th>\n",
       "      <td>37.000000</td>\n",
       "      <td>45844.000000</td>\n",
       "      <td>18.800000</td>\n",
       "      <td>32.100000</td>\n",
       "      <td>1051.000000</td>\n",
       "      <td>1.000000</td>\n",
       "      <td>0.310000</td>\n",
       "    </tr>\n",
       "  </tbody>\n",
       "</table>\n",
       "</div>"
      ],
      "text/plain": [
       "       EXECUTIONS        INCOME  PERPOVERTY   PERBLACK     VC100k96  \\\n",
       "count   17.000000     17.000000   17.000000  17.000000    17.000000   \n",
       "mean     4.352941  35462.705882   13.494118  14.258824   638.764706   \n",
       "std      8.695841   4939.735491    3.456781   9.793943   233.578555   \n",
       "min      1.000000  26954.000000    8.200000   1.800000   321.000000   \n",
       "25%      1.000000  32108.000000   10.600000   7.200000   463.000000   \n",
       "50%      1.000000  34743.000000   13.100000  12.200000   591.000000   \n",
       "75%      3.000000  37421.000000   16.400000  20.000000   886.000000   \n",
       "max     37.000000  45844.000000   18.800000  32.100000  1051.000000   \n",
       "\n",
       "           SOUTH     DEGREE  \n",
       "count  17.000000  17.000000  \n",
       "mean    0.411765   0.221765  \n",
       "std     0.507300   0.045721  \n",
       "min     0.000000   0.160000  \n",
       "25%     0.000000   0.190000  \n",
       "50%     0.000000   0.210000  \n",
       "75%     1.000000   0.250000  \n",
       "max     1.000000   0.310000  "
      ]
     },
     "execution_count": 3,
     "metadata": {},
     "output_type": "execute_result"
    }
   ],
   "source": [
    "df.describe()"
   ]
  },
  {
   "cell_type": "code",
   "execution_count": 4,
   "metadata": {},
   "outputs": [
    {
     "data": {
      "text/html": [
       "<div>\n",
       "<style scoped>\n",
       "    .dataframe tbody tr th:only-of-type {\n",
       "        vertical-align: middle;\n",
       "    }\n",
       "\n",
       "    .dataframe tbody tr th {\n",
       "        vertical-align: top;\n",
       "    }\n",
       "\n",
       "    .dataframe thead th {\n",
       "        text-align: right;\n",
       "    }\n",
       "</style>\n",
       "<table border=\"1\" class=\"dataframe\">\n",
       "  <thead>\n",
       "    <tr style=\"text-align: right;\">\n",
       "      <th></th>\n",
       "      <th>EXECUTIONS</th>\n",
       "      <th>INCOME</th>\n",
       "      <th>PERPOVERTY</th>\n",
       "      <th>PERBLACK</th>\n",
       "      <th>VC100k96</th>\n",
       "      <th>SOUTH</th>\n",
       "      <th>DEGREE</th>\n",
       "    </tr>\n",
       "  </thead>\n",
       "  <tbody>\n",
       "    <tr>\n",
       "      <th>0</th>\n",
       "      <td>37.0</td>\n",
       "      <td>34453.0</td>\n",
       "      <td>16.7</td>\n",
       "      <td>12.2</td>\n",
       "      <td>644.0</td>\n",
       "      <td>1.0</td>\n",
       "      <td>0.16</td>\n",
       "    </tr>\n",
       "    <tr>\n",
       "      <th>1</th>\n",
       "      <td>9.0</td>\n",
       "      <td>41534.0</td>\n",
       "      <td>12.5</td>\n",
       "      <td>20.0</td>\n",
       "      <td>351.0</td>\n",
       "      <td>1.0</td>\n",
       "      <td>0.27</td>\n",
       "    </tr>\n",
       "    <tr>\n",
       "      <th>2</th>\n",
       "      <td>6.0</td>\n",
       "      <td>35802.0</td>\n",
       "      <td>10.6</td>\n",
       "      <td>11.2</td>\n",
       "      <td>591.0</td>\n",
       "      <td>0.0</td>\n",
       "      <td>0.21</td>\n",
       "    </tr>\n",
       "    <tr>\n",
       "      <th>3</th>\n",
       "      <td>4.0</td>\n",
       "      <td>26954.0</td>\n",
       "      <td>18.4</td>\n",
       "      <td>16.1</td>\n",
       "      <td>524.0</td>\n",
       "      <td>1.0</td>\n",
       "      <td>0.16</td>\n",
       "    </tr>\n",
       "    <tr>\n",
       "      <th>4</th>\n",
       "      <td>3.0</td>\n",
       "      <td>31468.0</td>\n",
       "      <td>14.8</td>\n",
       "      <td>25.9</td>\n",
       "      <td>565.0</td>\n",
       "      <td>1.0</td>\n",
       "      <td>0.19</td>\n",
       "    </tr>\n",
       "  </tbody>\n",
       "</table>\n",
       "</div>"
      ],
      "text/plain": [
       "   EXECUTIONS   INCOME  PERPOVERTY  PERBLACK  VC100k96  SOUTH  DEGREE\n",
       "0        37.0  34453.0        16.7      12.2     644.0    1.0    0.16\n",
       "1         9.0  41534.0        12.5      20.0     351.0    1.0    0.27\n",
       "2         6.0  35802.0        10.6      11.2     591.0    0.0    0.21\n",
       "3         4.0  26954.0        18.4      16.1     524.0    1.0    0.16\n",
       "4         3.0  31468.0        14.8      25.9     565.0    1.0    0.19"
      ]
     },
     "execution_count": 4,
     "metadata": {},
     "output_type": "execute_result"
    }
   ],
   "source": [
    "df.head()"
   ]
  },
  {
   "cell_type": "markdown",
   "metadata": {},
   "source": [
    "Let's first get a mean and confidence interval for the income variable in the dataset. We can do that with the following set of commands:"
   ]
  },
  {
   "cell_type": "code",
   "execution_count": 5,
   "metadata": {},
   "outputs": [
    {
     "data": {
      "text/plain": [
       "(33114.547834868215, 37810.86392983767)"
      ]
     },
     "execution_count": 5,
     "metadata": {},
     "output_type": "execute_result"
    }
   ],
   "source": [
    "mean = df['INCOME'].mean()\n",
    "se = df['INCOME'].std()/np.sqrt(df['INCOME'].shape[0])\n",
    "sp.stats.norm.interval(0.95, loc=mean, scale=se)"
   ]
  },
  {
   "cell_type": "markdown",
   "metadata": {},
   "source": [
    "Check that you understand how this is calculated! Write some code which approximately duplicates the numbers above. Recall the formula for an approximate 95% confidence interval:\n",
    "\n",
    "\\begin{equation*}\n",
    "95\\%\\ CI\\ =\\ mean\\ ±\\ (1.96\\ *\\ standard\\ error)\n",
    "\\end{equation*}"
   ]
  },
  {
   "cell_type": "code",
   "execution_count": 6,
   "metadata": {},
   "outputs": [
    {
     "data": {
      "text/plain": [
       "(33114.50468612019, 37810.9070785857)"
      ]
     },
     "execution_count": 6,
     "metadata": {},
     "output_type": "execute_result"
    }
   ],
   "source": [
    "(mean - (1.96 * se), mean + (1.96 * se))"
   ]
  },
  {
   "cell_type": "markdown",
   "metadata": {},
   "source": [
    "The amount of observations in this dataset is quite small, which means it would be important to use a t-distribution to calculate our confidence interval. \n",
    "\n",
    "We can do that with `sm.stats.DescrStatsW(df['INCOME']).tconfint_mean()`. How does using the t-distribution change the confidence interval?"
   ]
  },
  {
   "cell_type": "code",
   "execution_count": null,
   "metadata": {},
   "outputs": [],
   "source": [
    "sm.stats.DescrStatsW(df['INCOME']).tconfint_mean()"
   ]
  },
  {
   "cell_type": "markdown",
   "metadata": {},
   "source": [
    "Now let's have a look at how to do a t-test. We're going to look at whether income is systematically higher or lower in southern states in the dataset. First, write a little bit of code that works out the difference in means between the two states. To get you started, you could use `df[df['SOUTH']==1]['INCOME'].mean()` to get the mean of all states which have south = 1.   "
   ]
  },
  {
   "cell_type": "code",
   "execution_count": 7,
   "metadata": {},
   "outputs": [
    {
     "data": {
      "text/plain": [
       "-3633.3714285714304"
      ]
     },
     "execution_count": 7,
     "metadata": {},
     "output_type": "execute_result"
    }
   ],
   "source": [
    "df[df['SOUTH']==1]['INCOME'].mean() - df[df['SOUTH']==0]['INCOME'].mean()"
   ]
  },
  {
   "cell_type": "markdown",
   "metadata": {},
   "source": [
    "Now let's run the t-test. Statsmodels has a library to do this for us: \n",
    "\n",
    "`sm.stats.ttest_ind(df[df['SOUTH']==1]['INCOME'], df[df['SOUTH']==0]['INCOME'], usevar=\"unequal\")`. You can see the documentation here: https://www.statsmodels.org/dev/generated/statsmodels.stats.weightstats.ttest_ind.html\n",
    "\n",
    "This returns three values: the test statistics, the p value, and the degrees of freedom "
   ]
  },
  {
   "cell_type": "code",
   "execution_count": 8,
   "metadata": {},
   "outputs": [
    {
     "data": {
      "text/plain": [
       "(-1.587305006418155, 0.134947304616254, 13.885455969119226)"
      ]
     },
     "execution_count": 8,
     "metadata": {},
     "output_type": "execute_result"
    }
   ],
   "source": [
    "sm.stats.ttest_ind(df[df['SOUTH']==1]['INCOME'], df[df['SOUTH']==0]['INCOME'], usevar=\"unequal\")"
   ]
  },
  {
   "cell_type": "markdown",
   "metadata": {},
   "source": [
    "Challenge: write out a function that performs a t test and returns the test statistic. This will involve taking into two arrays of numbers, calculating the difference in means, and expressing that difference in means in terms of a number of standard errors. Check your result agrees with the function above. If you want to do even more, you could also calculate the degrees of freedom (see formula here: https://www.statisticshowto.datasciencecentral.com/satterthwaite-formula/) and hence determine the p value. Note that you can use `sp.stats.t.cdf(ts, df=deg_freedom)*2` to convert a test statistics (`ts`) and degrees of freedom (`deg_freedom`) into a p value. "
   ]
  },
  {
   "cell_type": "code",
   "execution_count": 9,
   "metadata": {},
   "outputs": [],
   "source": [
    "def calc_dof(x, y): \n",
    "    dof_num = (x.var()/x.shape[0] + y.var()/y.shape[0])**2 \n",
    "    dof_denom = ((x.var()/x.shape[0])**2 / (x.shape[0]-1) + (y.var()/y.shape[0])**2 / (y.shape[0]-1))\n",
    "    return(dof_num/dof_denom)"
   ]
  },
  {
   "cell_type": "code",
   "execution_count": 10,
   "metadata": {},
   "outputs": [],
   "source": [
    "def t_test(df=None, var=None, group=None):\n",
    "    #check there are two groups\n",
    "    groups = df[group].unique()\n",
    "    if len(groups)!=2:print('error - group variable must have exactly two values');return\n",
    "    \n",
    "    #calculate group means, variance and n\n",
    "    means = [df[df[group]==g][var].mean() for g in groups]\n",
    "    variances = [df[df[group]==g][var].var() for g in groups] \n",
    "    ns = [df[df[group]==g][var].shape[0] for g in groups]\n",
    "    \n",
    "    se_2 = (variances[0] / ns[0]) + (variances[1] / ns[1])\n",
    "    se = np.sqrt(se_2)\n",
    "    \n",
    "    deg_freedom = calc_dof(*(df[df[group]==g][var] for g in groups))\n",
    "    t = (means[0] - means[1]) / se\n",
    "    p = sp.stats.t.cdf(t, df=deg_freedom)*2\n",
    "    print('Comparing groups:', groups, 'for variable', group)\n",
    "    print('Mean for group', groups[0], ':', means[0])\n",
    "    print('Mean for group', groups[1], ':', means[1])\n",
    "    print('Difference in means:', means[0] - means[1])\n",
    "    print('Test statistic:', t)\n",
    "    print('Degrees of freedom:', deg_freedom)\n",
    "    print('P value:', p)\n",
    "    "
   ]
  },
  {
   "cell_type": "code",
   "execution_count": 11,
   "metadata": {
    "scrolled": true
   },
   "outputs": [
    {
     "name": "stdout",
     "output_type": "stream",
     "text": [
      "Comparing groups: [1. 0.] for variable SOUTH\n",
      "Mean for group 1.0 : 33325.42857142857\n",
      "Mean for group 0.0 : 36958.8\n",
      "Difference in means: -3633.3714285714304\n",
      "Test statistic: -1.587305006418155\n",
      "Degrees of freedom: 13.885455969119223\n",
      "P value: 0.1349473046162541\n"
     ]
    }
   ],
   "source": [
    "t_test(df=df, var='INCOME', group='SOUTH')"
   ]
  },
  {
   "cell_type": "code",
   "execution_count": null,
   "metadata": {},
   "outputs": [],
   "source": []
  }
 ],
 "metadata": {
  "kernelspec": {
   "display_name": "Python 3",
   "language": "python",
   "name": "python3"
  },
  "language_info": {
   "codemirror_mode": {
    "name": "ipython",
    "version": 3
   },
   "file_extension": ".py",
   "mimetype": "text/x-python",
   "name": "python",
   "nbconvert_exporter": "python",
   "pygments_lexer": "ipython3",
   "version": "3.7.0"
  }
 },
 "nbformat": 4,
 "nbformat_minor": 2
}
