{
 "cells": [
  {
   "cell_type": "markdown",
   "metadata": {},
   "source": [
    "# Depression and Marital Status\n",
    "Study of 159 depression patients categorised by **level of\n",
    "depression** (severe, moderate, mild), and **marital status** (single,\n",
    "married, widowed/divorced).\n",
    "\n",
    "| Depression | Single | Married | Divorced |\n",
    "|------------|--------|---------|----------|\n",
    "| Severe     | 16     | 22      | 19       |   \n",
    "| Moderate   | 29     | 33      | 14       |   \n",
    "| Mild       | 9      | 14      | 3        |  \n",
    "\n",
    "\n",
    "**Question**: Does the conditional distribution of depression level change marital\n",
    "status?"
   ]
  },
  {
   "cell_type": "code",
   "execution_count": 1,
   "metadata": {},
   "outputs": [],
   "source": [
    "# Load some standard packages\n",
    "import numpy as np\n",
    "import pandas as pd\n",
    "import statsmodels.api as sm\n",
    "import scipy.stats as stats\n",
    "import matplotlib.pyplot as plt"
   ]
  },
  {
   "cell_type": "code",
   "execution_count": 2,
   "metadata": {},
   "outputs": [
    {
     "name": "stdout",
     "output_type": "stream",
     "text": [
      "[[16 22 19]\n",
      " [29 33 14]\n",
      " [ 9 14  3]]\n"
     ]
    }
   ],
   "source": [
    "# Define a contingency table\n",
    "observed = np.array([[16, 22, 19],[29, 33, 14],[9,14,3]])\n",
    "print(observed)"
   ]
  },
  {
   "cell_type": "code",
   "execution_count": 3,
   "metadata": {},
   "outputs": [
    {
     "name": "stdout",
     "output_type": "stream",
     "text": [
      "[[19.35849057 24.73584906 12.90566038]\n",
      " [25.81132075 32.98113208 17.20754717]\n",
      " [ 8.83018868 11.28301887  5.88679245]]\n"
     ]
    }
   ],
   "source": [
    "# Compute chi2\n",
    "chi2, p, dof, ex =stats.contingency.chi2_contingency(observed)\n",
    "print(ex)"
   ]
  },
  {
   "cell_type": "code",
   "execution_count": 7,
   "metadata": {},
   "outputs": [
    {
     "name": "stdout",
     "output_type": "stream",
     "text": [
      "chi2 stat\n",
      "6.83\n",
      "\n",
      "Critical Value\n",
      "7.78\n"
     ]
    }
   ],
   "source": [
    "# Compute chi2 statistic\n",
    "chi2, p, dof, ex = stats.contingency.chi2_contingency(observed)\n",
    "print(\"chi2 stat\")\n",
    "print(np.round(chi2,2))\n",
    "\n",
    "print(\"\")\n",
    "\n",
    "crit = stats.chi2.ppf(q = 0.9, df = 4)\n",
    "print(\"Critical Value\")\n",
    "print(round(crit,2))"
   ]
  },
  {
   "cell_type": "markdown",
   "metadata": {},
   "source": [
    "**Conclusion**: Since chi2 stat < Critical Value, we conclude that no strong evidence exist to say that the level of depression is associated with marital status."
   ]
  }
 ],
 "metadata": {
  "kernelspec": {
   "display_name": "Python 3",
   "language": "python",
   "name": "python3"
  },
  "language_info": {
   "codemirror_mode": {
    "name": "ipython",
    "version": 3
   },
   "file_extension": ".py",
   "mimetype": "text/x-python",
   "name": "python",
   "nbconvert_exporter": "python",
   "pygments_lexer": "ipython3",
   "version": "3.6.6"
  }
 },
 "nbformat": 4,
 "nbformat_minor": 2
}
