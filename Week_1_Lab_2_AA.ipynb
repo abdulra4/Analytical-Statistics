{
 "cells": [
  {
   "cell_type": "markdown",
   "metadata": {},
   "source": [
    "# Lab Session 2"
   ]
  },
  {
   "cell_type": "code",
   "execution_count": 2,
   "metadata": {},
   "outputs": [],
   "source": [
    "%matplotlib inline\n",
    "import statsmodels as sm\n",
    "import pandas as pd"
   ]
  },
  {
   "cell_type": "code",
   "execution_count": 3,
   "metadata": {},
   "outputs": [],
   "source": [
    "#dataset on extra marital affairs. see: https://www.statsmodels.org/dev/datasets/generated/fair.html\n",
    "data = sm.datasets.get_rdataset('Fair', 'Ecdat')\n",
    "#nb: this will only work if you have an internet connection!\n",
    "#if it doesn't, uncomment and run the following code (you will have to comment out the line above)\n",
    "import pickle\n",
    "data = pickle.load(open('Fair.p', 'rb'))\n",
    "df = pd.DataFrame(data.data)"
   ]
  },
  {
   "cell_type": "markdown",
   "metadata": {},
   "source": [
    "Let’s start by looking at the relationship between gender and other variables in the dataset\n",
    "- Let’s get group means first: `df['education'].groupby(df['sex']).mean()` "
   ]
  },
  {
   "cell_type": "code",
   "execution_count": 4,
   "metadata": {},
   "outputs": [
    {
     "data": {
      "text/plain": [
       "sex\n",
       "female    15.257143\n",
       "male      17.167832\n",
       "Name: education, dtype: float64"
      ]
     },
     "execution_count": 4,
     "metadata": {},
     "output_type": "execute_result"
    }
   ],
   "source": [
    "df['education'].groupby(df['sex']).mean()"
   ]
  },
  {
   "cell_type": "markdown",
   "metadata": {},
   "source": [
    "Now make a boxplot for the variable education, grouped by sex. You can use: `df.boxplot('education', by='sex', figsize=(5,5))`\n",
    "- What interpretation do you arrive at from the group means? Does the boxplot support the conclusion?\n"
   ]
  },
  {
   "cell_type": "code",
   "execution_count": 5,
   "metadata": {},
   "outputs": [
    {
     "data": {
      "text/plain": [
       "<matplotlib.axes._subplots.AxesSubplot at 0x8212ab9b0>"
      ]
     },
     "execution_count": 5,
     "metadata": {},
     "output_type": "execute_result"
    },
    {
     "data": {
      "image/png": "[encoded data removed]",
      "text/plain": [
       "<Figure size 360x360 with 1 Axes>"
      ]
     },
     "metadata": {
      "needs_background": "light"
     },
     "output_type": "display_data"
    }
   ],
   "source": [
    "df.boxplot('education', by='sex', figsize=(5,5))\n",
    "\n"
   ]
  },
  {
   "cell_type": "markdown",
   "metadata": {},
   "source": [
    "Repeat the procedure for the ‘number of affairs’ variable. What conclusion do you reach here?"
   ]
  },
  {
   "cell_type": "code",
   "execution_count": 6,
   "metadata": {},
   "outputs": [
    {
     "data": {
      "text/plain": [
       "<matplotlib.axes._subplots.AxesSubplot at 0x821224e10>"
      ]
     },
     "execution_count": 6,
     "metadata": {},
     "output_type": "execute_result"
    },
    {
     "data": {
      "image/png": "[encoded data removed]",
      "text/plain": [
       "<Figure size 360x360 with 1 Axes>"
      ]
     },
     "metadata": {
      "needs_background": "light"
     },
     "output_type": "display_data"
    }
   ],
   "source": [
    "df.boxplot('nbaffairs', by='sex', figsize=(5,5))\n",
    "\n"
   ]
  },
  {
   "cell_type": "markdown",
   "metadata": {},
   "source": [
    "One reason it’s a bit hard to interpret is because most people haven’t had any affairs. In this kind of situation it would be quite common to convert the variable into a categorical one which simply records whether people have or have not had an affair. Let’s look at how to do this.\n",
    "\n",
    "First, input the following piece of code into a code cell and hit run:\n",
    "- `df['nbaffairs'] > 0`\n",
    "- You’ll see a long list of `True` / `False` values as output (and in fact we find out that the dataset seems to be ordered by the number of affairs, though this isn’t something that makes a difference). This is a new variable which has the value `True` every time `df['nbaffairs']` is greater than 0. This is a type of categorical variable which is sometimes known as a boolean."
   ]
  },
  {
   "cell_type": "code",
   "execution_count": 7,
   "metadata": {},
   "outputs": [
    {
     "data": {
      "text/plain": [
       "0      False\n",
       "1      False\n",
       "2      False\n",
       "3      False\n",
       "4      False\n",
       "5      False\n",
       "6      False\n",
       "7      False\n",
       "8      False\n",
       "9      False\n",
       "10     False\n",
       "11     False\n",
       "12     False\n",
       "13     False\n",
       "14     False\n",
       "15     False\n",
       "16     False\n",
       "17     False\n",
       "18     False\n",
       "19     False\n",
       "20     False\n",
       "21     False\n",
       "22     False\n",
       "23     False\n",
       "24     False\n",
       "25     False\n",
       "26     False\n",
       "27     False\n",
       "28     False\n",
       "29     False\n",
       "       ...  \n",
       "571     True\n",
       "572     True\n",
       "573     True\n",
       "574     True\n",
       "575     True\n",
       "576     True\n",
       "577     True\n",
       "578     True\n",
       "579     True\n",
       "580     True\n",
       "581     True\n",
       "582     True\n",
       "583     True\n",
       "584     True\n",
       "585     True\n",
       "586     True\n",
       "587     True\n",
       "588     True\n",
       "589     True\n",
       "590     True\n",
       "591     True\n",
       "592     True\n",
       "593     True\n",
       "594     True\n",
       "595     True\n",
       "596     True\n",
       "597     True\n",
       "598     True\n",
       "599     True\n",
       "600     True\n",
       "Name: nbaffairs, Length: 601, dtype: bool"
      ]
     },
     "execution_count": 7,
     "metadata": {},
     "output_type": "execute_result"
    }
   ],
   "source": [
    "df['nbaffairs'] > 0"
   ]
  },
  {
   "cell_type": "markdown",
   "metadata": {},
   "source": [
    "- Let’s capture this variable in our dataframe. We can do this with: `df['had_affair'] = df['nbaffairs'] > 0` \n",
    "- Reinspect the dataframe using the `.head()` command. You should see a new variable in there. Use `.value_counts()` to find out how many people in the dataset had an affair. Check the first lab if you can't remember how to use these commands. Remember you can insert new code cells in the menu bar above if you want to split these commands into multiple cells. "
   ]
  },
  {
   "cell_type": "code",
   "execution_count": 8,
   "metadata": {},
   "outputs": [],
   "source": [
    "df['had_affair'] = df['nbaffairs'] > 0"
   ]
  },
  {
   "cell_type": "markdown",
   "metadata": {},
   "source": [
    "Let’s now make a cross tab with our new variable and the sex variable. We can do this using: `pd.crosstab(df['had_affair'], df['sex'])`\n",
    "\n",
    "It’s also interesting to look at the percentages in each category: `pd.crosstab(df['had_affair'], df['sex'], normalize='columns')`"
   ]
  },
  {
   "cell_type": "code",
   "execution_count": 14,
   "metadata": {},
   "outputs": [
    {
     "data": {
      "text/html": [
       "<div>\n",
       "<style scoped>\n",
       "    .dataframe tbody tr th:only-of-type {\n",
       "        vertical-align: middle;\n",
       "    }\n",
       "\n",
       "    .dataframe tbody tr th {\n",
       "        vertical-align: top;\n",
       "    }\n",
       "\n",
       "    .dataframe thead th {\n",
       "        text-align: right;\n",
       "    }\n",
       "</style>\n",
       "<table border=\"1\" class=\"dataframe\">\n",
       "  <thead>\n",
       "    <tr style=\"text-align: right;\">\n",
       "      <th>sex</th>\n",
       "      <th>female</th>\n",
       "      <th>male</th>\n",
       "    </tr>\n",
       "    <tr>\n",
       "      <th>had_affair</th>\n",
       "      <th></th>\n",
       "      <th></th>\n",
       "    </tr>\n",
       "  </thead>\n",
       "  <tbody>\n",
       "    <tr>\n",
       "      <th>False</th>\n",
       "      <td>243</td>\n",
       "      <td>208</td>\n",
       "    </tr>\n",
       "    <tr>\n",
       "      <th>True</th>\n",
       "      <td>72</td>\n",
       "      <td>78</td>\n",
       "    </tr>\n",
       "  </tbody>\n",
       "</table>\n",
       "</div>"
      ],
      "text/plain": [
       "sex         female  male\n",
       "had_affair              \n",
       "False          243   208\n",
       "True            72    78"
      ]
     },
     "execution_count": 14,
     "metadata": {},
     "output_type": "execute_result"
    }
   ],
   "source": [
    "pd.crosstab(df['had_affair'], df['sex'])"
   ]
  },
  {
   "cell_type": "markdown",
   "metadata": {},
   "source": [
    "And of course to make a barplot – note we can do it directly rather than capturing the output from the first step\n",
    "\n",
    "`pd.crosstab(df['had_affair'], df['sex'], normalize='columns').plot.bar()`"
   ]
  },
  {
   "cell_type": "code",
   "execution_count": 15,
   "metadata": {},
   "outputs": [
    {
     "data": {
      "text/plain": [
       "<matplotlib.axes._subplots.AxesSubplot at 0x821c373c8>"
      ]
     },
     "execution_count": 15,
     "metadata": {},
     "output_type": "execute_result"
    },
    {
     "data": {
      "image/png": "[encoded data removed]",
      "text/plain": [
       "<Figure size 432x288 with 1 Axes>"
      ]
     },
     "metadata": {
      "needs_background": "light"
     },
     "output_type": "display_data"
    }
   ],
   "source": [
    "pd.crosstab(df['had_affair'], df['sex'], normalize='columns').plot.bar()"
   ]
  },
  {
   "cell_type": "markdown",
   "metadata": {},
   "source": [
    "Try the same commands with the had_affair variable and the rate variable. What other type of graphic could we use to investigate this relation?"
   ]
  },
  {
   "cell_type": "code",
   "execution_count": 16,
   "metadata": {},
   "outputs": [
    {
     "data": {
      "text/plain": [
       "<matplotlib.axes._subplots.AxesSubplot at 0x8220a2358>"
      ]
     },
     "execution_count": 16,
     "metadata": {},
     "output_type": "execute_result"
    },
    {
     "data": {
      "image/png": "[encoded data removed]",
      "text/plain": [
       "<Figure size 432x288 with 1 Axes>"
      ]
     },
     "metadata": {
      "needs_background": "light"
     },
     "output_type": "display_data"
    }
   ],
   "source": [
    "pd.crosstab(df['had_affair'], df['rate'], normalize='columns').plot.bar()"
   ]
  },
  {
   "cell_type": "markdown",
   "metadata": {},
   "source": [
    "Finally let’s look at how to make scatter plots and correlations\n",
    "\n",
    "The correlation between age and years married is given by: `df['age'].corr(df['ym'])`\n",
    "\n",
    "And the scatter plot is given by: `df.plot.scatter('age', 'ym')`\n"
   ]
  },
  {
   "cell_type": "code",
   "execution_count": 17,
   "metadata": {},
   "outputs": [
    {
     "data": {
      "text/plain": [
       "<matplotlib.axes._subplots.AxesSubplot at 0x8221c9fd0>"
      ]
     },
     "execution_count": 17,
     "metadata": {},
     "output_type": "execute_result"
    },
    {
     "data": {
      "image/png": "[encoded data removed]",
      "text/plain": [
       "<Figure size 432x288 with 1 Axes>"
      ]
     },
     "metadata": {
      "needs_background": "light"
     },
     "output_type": "display_data"
    }
   ],
   "source": [
    "df['age'].corr(df['ym'])\n",
    "\n",
    "df.plot.scatter('age', 'ym')"
   ]
  },
  {
   "cell_type": "markdown",
   "metadata": {},
   "source": [
    "The correlation isn’t that evident in the graphic even though the results of using `.corr()` suggest a strong correlation. Part of the reason for this is again that ym has only a few possible values. Hence it’s difficult to tell the difference between a point on the graphic which has lots of data on it and a point which just has one data point. \n",
    "\n",
    "We can fix this by applying some transparency to the points (commonly referred to as alpha): `df.plot.scatter('age', 'ym', alpha=0.05)`\n",
    "\n",
    "Alpha is a value from 0 to 1. With alpha of 0.05, 20 points have to be plotted on each other to make a fully coloured point\n"
   ]
  },
  {
   "cell_type": "code",
   "execution_count": 18,
   "metadata": {},
   "outputs": [
    {
     "data": {
      "text/plain": [
       "<matplotlib.axes._subplots.AxesSubplot at 0x8221e9b70>"
      ]
     },
     "execution_count": 18,
     "metadata": {},
     "output_type": "execute_result"
    },
    {
     "data": {
      "image/png": "[encoded data removed]",
      "text/plain": [
       "<Figure size 432x288 with 1 Axes>"
      ]
     },
     "metadata": {
      "needs_background": "light"
     },
     "output_type": "display_data"
    }
   ],
   "source": [
    "df.plot.scatter('age', 'ym', alpha=0.05)"
   ]
  },
  {
   "cell_type": "markdown",
   "metadata": {},
   "source": [
    "Theoretically before any analysis we want to investigate all possible correlations between variables. We can use some shorthand notation to do them all at once:\n",
    "\n",
    "`df.corr()` will give us correlations for all possible pairs of numeric variables.\n",
    "\n",
    "We can also use the same true / false operation to quickly identify, say, correlations above 0.75 `df.corr() > 0.75`"
   ]
  },
  {
   "cell_type": "code",
   "execution_count": 21,
   "metadata": {},
   "outputs": [
    {
     "data": {
      "text/html": [
       "<div>\n",
       "<style scoped>\n",
       "    .dataframe tbody tr th:only-of-type {\n",
       "        vertical-align: middle;\n",
       "    }\n",
       "\n",
       "    .dataframe tbody tr th {\n",
       "        vertical-align: top;\n",
       "    }\n",
       "\n",
       "    .dataframe thead th {\n",
       "        text-align: right;\n",
       "    }\n",
       "</style>\n",
       "<table border=\"1\" class=\"dataframe\">\n",
       "  <thead>\n",
       "    <tr style=\"text-align: right;\">\n",
       "      <th></th>\n",
       "      <th>age</th>\n",
       "      <th>ym</th>\n",
       "      <th>religious</th>\n",
       "      <th>education</th>\n",
       "      <th>occupation</th>\n",
       "      <th>rate</th>\n",
       "      <th>nbaffairs</th>\n",
       "      <th>had_affair</th>\n",
       "    </tr>\n",
       "  </thead>\n",
       "  <tbody>\n",
       "    <tr>\n",
       "      <th>age</th>\n",
       "      <td>True</td>\n",
       "      <td>True</td>\n",
       "      <td>False</td>\n",
       "      <td>False</td>\n",
       "      <td>False</td>\n",
       "      <td>False</td>\n",
       "      <td>False</td>\n",
       "      <td>False</td>\n",
       "    </tr>\n",
       "    <tr>\n",
       "      <th>ym</th>\n",
       "      <td>True</td>\n",
       "      <td>True</td>\n",
       "      <td>False</td>\n",
       "      <td>False</td>\n",
       "      <td>False</td>\n",
       "      <td>False</td>\n",
       "      <td>False</td>\n",
       "      <td>False</td>\n",
       "    </tr>\n",
       "    <tr>\n",
       "      <th>religious</th>\n",
       "      <td>False</td>\n",
       "      <td>False</td>\n",
       "      <td>True</td>\n",
       "      <td>False</td>\n",
       "      <td>False</td>\n",
       "      <td>False</td>\n",
       "      <td>False</td>\n",
       "      <td>False</td>\n",
       "    </tr>\n",
       "    <tr>\n",
       "      <th>education</th>\n",
       "      <td>False</td>\n",
       "      <td>False</td>\n",
       "      <td>False</td>\n",
       "      <td>True</td>\n",
       "      <td>False</td>\n",
       "      <td>False</td>\n",
       "      <td>False</td>\n",
       "      <td>False</td>\n",
       "    </tr>\n",
       "    <tr>\n",
       "      <th>occupation</th>\n",
       "      <td>False</td>\n",
       "      <td>False</td>\n",
       "      <td>False</td>\n",
       "      <td>False</td>\n",
       "      <td>True</td>\n",
       "      <td>False</td>\n",
       "      <td>False</td>\n",
       "      <td>False</td>\n",
       "    </tr>\n",
       "    <tr>\n",
       "      <th>rate</th>\n",
       "      <td>False</td>\n",
       "      <td>False</td>\n",
       "      <td>False</td>\n",
       "      <td>False</td>\n",
       "      <td>False</td>\n",
       "      <td>True</td>\n",
       "      <td>False</td>\n",
       "      <td>False</td>\n",
       "    </tr>\n",
       "    <tr>\n",
       "      <th>nbaffairs</th>\n",
       "      <td>False</td>\n",
       "      <td>False</td>\n",
       "      <td>False</td>\n",
       "      <td>False</td>\n",
       "      <td>False</td>\n",
       "      <td>False</td>\n",
       "      <td>True</td>\n",
       "      <td>True</td>\n",
       "    </tr>\n",
       "    <tr>\n",
       "      <th>had_affair</th>\n",
       "      <td>False</td>\n",
       "      <td>False</td>\n",
       "      <td>False</td>\n",
       "      <td>False</td>\n",
       "      <td>False</td>\n",
       "      <td>False</td>\n",
       "      <td>True</td>\n",
       "      <td>True</td>\n",
       "    </tr>\n",
       "  </tbody>\n",
       "</table>\n",
       "</div>"
      ],
      "text/plain": [
       "              age     ym  religious  education  occupation   rate  nbaffairs  \\\n",
       "age          True   True      False      False       False  False      False   \n",
       "ym           True   True      False      False       False  False      False   \n",
       "religious   False  False       True      False       False  False      False   \n",
       "education   False  False      False       True       False  False      False   \n",
       "occupation  False  False      False      False        True  False      False   \n",
       "rate        False  False      False      False       False   True      False   \n",
       "nbaffairs   False  False      False      False       False  False       True   \n",
       "had_affair  False  False      False      False       False  False       True   \n",
       "\n",
       "            had_affair  \n",
       "age              False  \n",
       "ym               False  \n",
       "religious        False  \n",
       "education        False  \n",
       "occupation       False  \n",
       "rate             False  \n",
       "nbaffairs         True  \n",
       "had_affair        True  "
      ]
     },
     "execution_count": 21,
     "metadata": {},
     "output_type": "execute_result"
    }
   ],
   "source": [
    "df.corr() > 0.75"
   ]
  },
  {
   "cell_type": "markdown",
   "metadata": {},
   "source": [
    "You might have noticed in the above that the two categorical variables (gender and children) are missing. However our categorical 'had_affair' variable is present. If we structure variables as booleans then `df.corr()` will make use of them, effectively calculating the difference in means between groups. \n",
    "\n",
    "Let's convert the gender variable to a boolean. We can do this with: `df['is_male'] = df['sex'] == 'male'`\n",
    "\n",
    "Note the difference between `=` and `==`: one is for assignment, and one checks equality. Don't worry if you aren't sure about some of the Python syntax: your intensive Python courses are going to swing into gear soon!\n",
    "\n",
    "Run `df.corr()` again - you should now see the column `'is_male'` included. \n",
    "\n",
    "Repeat the procedure for the children variable. "
   ]
  },
  {
   "cell_type": "code",
   "execution_count": 22,
   "metadata": {},
   "outputs": [],
   "source": [
    "df['is_male'] = df['sex'] == 'male'"
   ]
  },
  {
   "cell_type": "code",
   "execution_count": 23,
   "metadata": {},
   "outputs": [
    {
     "data": {
      "text/html": [
       "<div>\n",
       "<style scoped>\n",
       "    .dataframe tbody tr th:only-of-type {\n",
       "        vertical-align: middle;\n",
       "    }\n",
       "\n",
       "    .dataframe tbody tr th {\n",
       "        vertical-align: top;\n",
       "    }\n",
       "\n",
       "    .dataframe thead th {\n",
       "        text-align: right;\n",
       "    }\n",
       "</style>\n",
       "<table border=\"1\" class=\"dataframe\">\n",
       "  <thead>\n",
       "    <tr style=\"text-align: right;\">\n",
       "      <th></th>\n",
       "      <th>age</th>\n",
       "      <th>ym</th>\n",
       "      <th>religious</th>\n",
       "      <th>education</th>\n",
       "      <th>occupation</th>\n",
       "      <th>rate</th>\n",
       "      <th>nbaffairs</th>\n",
       "      <th>had_affair</th>\n",
       "      <th>is_male</th>\n",
       "    </tr>\n",
       "  </thead>\n",
       "  <tbody>\n",
       "    <tr>\n",
       "      <th>age</th>\n",
       "      <td>1.000000</td>\n",
       "      <td>0.777546</td>\n",
       "      <td>0.193777</td>\n",
       "      <td>0.134596</td>\n",
       "      <td>0.166413</td>\n",
       "      <td>-0.199000</td>\n",
       "      <td>0.095237</td>\n",
       "      <td>0.057322</td>\n",
       "      <td>0.190641</td>\n",
       "    </tr>\n",
       "    <tr>\n",
       "      <th>ym</th>\n",
       "      <td>0.777546</td>\n",
       "      <td>1.000000</td>\n",
       "      <td>0.218261</td>\n",
       "      <td>0.040003</td>\n",
       "      <td>0.044592</td>\n",
       "      <td>-0.243119</td>\n",
       "      <td>0.186842</td>\n",
       "      <td>0.140301</td>\n",
       "      <td>0.030283</td>\n",
       "    </tr>\n",
       "    <tr>\n",
       "      <th>religious</th>\n",
       "      <td>0.193777</td>\n",
       "      <td>0.218261</td>\n",
       "      <td>1.000000</td>\n",
       "      <td>-0.042571</td>\n",
       "      <td>-0.039722</td>\n",
       "      <td>0.024296</td>\n",
       "      <td>-0.144501</td>\n",
       "      <td>-0.130090</td>\n",
       "      <td>0.007679</td>\n",
       "    </tr>\n",
       "    <tr>\n",
       "      <th>education</th>\n",
       "      <td>0.134596</td>\n",
       "      <td>0.040003</td>\n",
       "      <td>-0.042571</td>\n",
       "      <td>1.000000</td>\n",
       "      <td>0.533605</td>\n",
       "      <td>0.109303</td>\n",
       "      <td>-0.002437</td>\n",
       "      <td>0.019286</td>\n",
       "      <td>0.397505</td>\n",
       "    </tr>\n",
       "    <tr>\n",
       "      <th>occupation</th>\n",
       "      <td>0.166413</td>\n",
       "      <td>0.044592</td>\n",
       "      <td>-0.039722</td>\n",
       "      <td>0.533605</td>\n",
       "      <td>1.000000</td>\n",
       "      <td>0.017422</td>\n",
       "      <td>0.049612</td>\n",
       "      <td>0.037642</td>\n",
       "      <td>0.467923</td>\n",
       "    </tr>\n",
       "    <tr>\n",
       "      <th>rate</th>\n",
       "      <td>-0.199000</td>\n",
       "      <td>-0.243119</td>\n",
       "      <td>0.024296</td>\n",
       "      <td>0.109303</td>\n",
       "      <td>0.017422</td>\n",
       "      <td>1.000000</td>\n",
       "      <td>-0.279512</td>\n",
       "      <td>-0.253814</td>\n",
       "      <td>-0.007524</td>\n",
       "    </tr>\n",
       "    <tr>\n",
       "      <th>nbaffairs</th>\n",
       "      <td>0.095237</td>\n",
       "      <td>0.186842</td>\n",
       "      <td>-0.144501</td>\n",
       "      <td>-0.002437</td>\n",
       "      <td>0.049612</td>\n",
       "      <td>-0.279512</td>\n",
       "      <td>1.000000</td>\n",
       "      <td>0.765927</td>\n",
       "      <td>0.011736</td>\n",
       "    </tr>\n",
       "    <tr>\n",
       "      <th>had_affair</th>\n",
       "      <td>0.057322</td>\n",
       "      <td>0.140301</td>\n",
       "      <td>-0.130090</td>\n",
       "      <td>0.019286</td>\n",
       "      <td>0.037642</td>\n",
       "      <td>-0.253814</td>\n",
       "      <td>0.765927</td>\n",
       "      <td>1.000000</td>\n",
       "      <td>0.050956</td>\n",
       "    </tr>\n",
       "    <tr>\n",
       "      <th>is_male</th>\n",
       "      <td>0.190641</td>\n",
       "      <td>0.030283</td>\n",
       "      <td>0.007679</td>\n",
       "      <td>0.397505</td>\n",
       "      <td>0.467923</td>\n",
       "      <td>-0.007524</td>\n",
       "      <td>0.011736</td>\n",
       "      <td>0.050956</td>\n",
       "      <td>1.000000</td>\n",
       "    </tr>\n",
       "  </tbody>\n",
       "</table>\n",
       "</div>"
      ],
      "text/plain": [
       "                 age        ym  religious  education  occupation      rate  \\\n",
       "age         1.000000  0.777546   0.193777   0.134596    0.166413 -0.199000   \n",
       "ym          0.777546  1.000000   0.218261   0.040003    0.044592 -0.243119   \n",
       "religious   0.193777  0.218261   1.000000  -0.042571   -0.039722  0.024296   \n",
       "education   0.134596  0.040003  -0.042571   1.000000    0.533605  0.109303   \n",
       "occupation  0.166413  0.044592  -0.039722   0.533605    1.000000  0.017422   \n",
       "rate       -0.199000 -0.243119   0.024296   0.109303    0.017422  1.000000   \n",
       "nbaffairs   0.095237  0.186842  -0.144501  -0.002437    0.049612 -0.279512   \n",
       "had_affair  0.057322  0.140301  -0.130090   0.019286    0.037642 -0.253814   \n",
       "is_male     0.190641  0.030283   0.007679   0.397505    0.467923 -0.007524   \n",
       "\n",
       "            nbaffairs  had_affair   is_male  \n",
       "age          0.095237    0.057322  0.190641  \n",
       "ym           0.186842    0.140301  0.030283  \n",
       "religious   -0.144501   -0.130090  0.007679  \n",
       "education   -0.002437    0.019286  0.397505  \n",
       "occupation   0.049612    0.037642  0.467923  \n",
       "rate        -0.279512   -0.253814 -0.007524  \n",
       "nbaffairs    1.000000    0.765927  0.011736  \n",
       "had_affair   0.765927    1.000000  0.050956  \n",
       "is_male      0.011736    0.050956  1.000000  "
      ]
     },
     "execution_count": 23,
     "metadata": {},
     "output_type": "execute_result"
    }
   ],
   "source": [
    "df.corr()"
   ]
  },
  {
   "cell_type": "markdown",
   "metadata": {},
   "source": [
    "Now you have a good idea of all the different ways you can describe a dataset, and start to learn about its properties. So, let's apply this knowledge to a new dataset! There is another embedded dataset called the RAND health experiment data, which you can load with: \n",
    "\n",
    "`df = sm.datasets.cpunish.load_pandas().data`. Documentation can be found here: https://www.statsmodels.org/dev/datasets/generated/cpunish.html Describe the dataset, and look out for unusual or noteworthy patterns or correlations in the data. Complete this at home if you run out of time in class."
   ]
  },
  {
   "cell_type": "code",
   "execution_count": null,
   "metadata": {},
   "outputs": [],
   "source": []
  }
 ],
 "metadata": {
  "kernelspec": {
   "display_name": "Python 3",
   "language": "python",
   "name": "python3"
  },
  "language_info": {
   "codemirror_mode": {
    "name": "ipython",
    "version": 3
   },
   "file_extension": ".py",
   "mimetype": "text/x-python",
   "name": "python",
   "nbconvert_exporter": "python",
   "pygments_lexer": "ipython3",
   "version": "3.7.0"
  }
 },
 "nbformat": 4,
 "nbformat_minor": 2
}
