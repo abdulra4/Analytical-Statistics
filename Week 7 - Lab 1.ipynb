{
 "cells": [
  {
   "cell_type": "markdown",
   "metadata": {},
   "source": [
    "# Week 7 - Lab 1 - First Difference Models\n",
    "\n",
    "In this lab we are going to look at how to implement a first difference model. "
   ]
  },
  {
   "cell_type": "code",
   "execution_count": 1,
   "metadata": {},
   "outputs": [],
   "source": [
    "import pandas as pd\n",
    "import matplotlib.pyplot as plt\n",
    "import numpy as np\n",
    "import statsmodels.api as sm\n",
    "import statsmodels.formula.api as smf"
   ]
  },
  {
   "cell_type": "markdown",
   "metadata": {},
   "source": [
    "The data are aggregate daily totals of Twitter activity of candidates during the buildup to the UK's 2017 general election. The data cover a few weeks before the election in the months of May and June. "
   ]
  },
  {
   "cell_type": "code",
   "execution_count": 2,
   "metadata": {},
   "outputs": [],
   "source": [
    "data = pd.read_csv('daily_tw_totals_2017.csv')\n",
    "parties = [\"Conservative and Unionist Party\",\"Labour Party\",\"Liberal Democrats\",\"Green Party\",\n",
    "           \"UK Independence Party (UKIP)\",\"Scottish National Party (SNP)\"]\n",
    "data = data[data['Party'].isin(parties)]#subset to only the major parties\n",
    "data['Gender'] = data['Gender'].str.lower()#do a bit of data cleaning"
   ]
  },
  {
   "cell_type": "markdown",
   "metadata": {},
   "source": [
    "The first thing you should do is produce appropriate descriptive statistics for the dataset, as we did in Week 1. "
   ]
  },
  {
   "cell_type": "code",
   "execution_count": 3,
   "metadata": {},
   "outputs": [
    {
     "data": {
      "text/html": [
       "<div>\n",
       "<style scoped>\n",
       "    .dataframe tbody tr th:only-of-type {\n",
       "        vertical-align: middle;\n",
       "    }\n",
       "\n",
       "    .dataframe tbody tr th {\n",
       "        vertical-align: top;\n",
       "    }\n",
       "\n",
       "    .dataframe thead th {\n",
       "        text-align: right;\n",
       "    }\n",
       "</style>\n",
       "<table border=\"1\" class=\"dataframe\">\n",
       "  <thead>\n",
       "    <tr style=\"text-align: right;\">\n",
       "      <th></th>\n",
       "      <th>twid</th>\n",
       "      <th>followers</th>\n",
       "      <th>friends</th>\n",
       "      <th>candidate_tweets</th>\n",
       "      <th>candidate_retweets</th>\n",
       "      <th>mentions</th>\n",
       "      <th>mentions_retweets</th>\n",
       "      <th>replies</th>\n",
       "    </tr>\n",
       "  </thead>\n",
       "  <tbody>\n",
       "    <tr>\n",
       "      <th>count</th>\n",
       "      <td>3.476100e+04</td>\n",
       "      <td>2.804800e+04</td>\n",
       "      <td>28048.000000</td>\n",
       "      <td>34761.000000</td>\n",
       "      <td>34761.000000</td>\n",
       "      <td>34761.000000</td>\n",
       "      <td>34761.000000</td>\n",
       "      <td>34761.000000</td>\n",
       "    </tr>\n",
       "    <tr>\n",
       "      <th>mean</th>\n",
       "      <td>6.408840e+16</td>\n",
       "      <td>8.876130e+03</td>\n",
       "      <td>1506.926982</td>\n",
       "      <td>8.388395</td>\n",
       "      <td>61.159978</td>\n",
       "      <td>63.018383</td>\n",
       "      <td>73.621472</td>\n",
       "      <td>1.292454</td>\n",
       "    </tr>\n",
       "    <tr>\n",
       "      <th>std</th>\n",
       "      <td>2.206928e+17</td>\n",
       "      <td>4.021583e+04</td>\n",
       "      <td>3187.889384</td>\n",
       "      <td>16.513430</td>\n",
       "      <td>1257.659052</td>\n",
       "      <td>967.025047</td>\n",
       "      <td>1448.223154</td>\n",
       "      <td>4.866654</td>\n",
       "    </tr>\n",
       "    <tr>\n",
       "      <th>min</th>\n",
       "      <td>1.622761e+06</td>\n",
       "      <td>9.000000e+00</td>\n",
       "      <td>0.000000</td>\n",
       "      <td>0.000000</td>\n",
       "      <td>0.000000</td>\n",
       "      <td>0.000000</td>\n",
       "      <td>0.000000</td>\n",
       "      <td>0.000000</td>\n",
       "    </tr>\n",
       "    <tr>\n",
       "      <th>25%</th>\n",
       "      <td>8.246793e+07</td>\n",
       "      <td>5.410000e+02</td>\n",
       "      <td>385.000000</td>\n",
       "      <td>1.000000</td>\n",
       "      <td>0.000000</td>\n",
       "      <td>1.000000</td>\n",
       "      <td>0.000000</td>\n",
       "      <td>0.000000</td>\n",
       "    </tr>\n",
       "    <tr>\n",
       "      <th>50%</th>\n",
       "      <td>3.447372e+08</td>\n",
       "      <td>1.497000e+03</td>\n",
       "      <td>849.000000</td>\n",
       "      <td>3.000000</td>\n",
       "      <td>2.000000</td>\n",
       "      <td>4.000000</td>\n",
       "      <td>1.000000</td>\n",
       "      <td>0.000000</td>\n",
       "    </tr>\n",
       "    <tr>\n",
       "      <th>75%</th>\n",
       "      <td>2.245759e+09</td>\n",
       "      <td>6.901250e+03</td>\n",
       "      <td>1812.000000</td>\n",
       "      <td>9.000000</td>\n",
       "      <td>10.000000</td>\n",
       "      <td>16.000000</td>\n",
       "      <td>9.000000</td>\n",
       "      <td>1.000000</td>\n",
       "    </tr>\n",
       "    <tr>\n",
       "      <th>max</th>\n",
       "      <td>8.634661e+17</td>\n",
       "      <td>1.135920e+06</td>\n",
       "      <td>83648.000000</td>\n",
       "      <td>737.000000</td>\n",
       "      <td>102262.000000</td>\n",
       "      <td>44541.000000</td>\n",
       "      <td>84987.000000</td>\n",
       "      <td>501.000000</td>\n",
       "    </tr>\n",
       "  </tbody>\n",
       "</table>\n",
       "</div>"
      ],
      "text/plain": [
       "               twid     followers       friends  candidate_tweets  \\\n",
       "count  3.476100e+04  2.804800e+04  28048.000000      34761.000000   \n",
       "mean   6.408840e+16  8.876130e+03   1506.926982          8.388395   \n",
       "std    2.206928e+17  4.021583e+04   3187.889384         16.513430   \n",
       "min    1.622761e+06  9.000000e+00      0.000000          0.000000   \n",
       "25%    8.246793e+07  5.410000e+02    385.000000          1.000000   \n",
       "50%    3.447372e+08  1.497000e+03    849.000000          3.000000   \n",
       "75%    2.245759e+09  6.901250e+03   1812.000000          9.000000   \n",
       "max    8.634661e+17  1.135920e+06  83648.000000        737.000000   \n",
       "\n",
       "       candidate_retweets      mentions  mentions_retweets       replies  \n",
       "count        34761.000000  34761.000000       34761.000000  34761.000000  \n",
       "mean            61.159978     63.018383          73.621472      1.292454  \n",
       "std           1257.659052    967.025047        1448.223154      4.866654  \n",
       "min              0.000000      0.000000           0.000000      0.000000  \n",
       "25%              0.000000      1.000000           0.000000      0.000000  \n",
       "50%              2.000000      4.000000           1.000000      0.000000  \n",
       "75%             10.000000     16.000000           9.000000      1.000000  \n",
       "max         102262.000000  44541.000000       84987.000000    501.000000  "
      ]
     },
     "execution_count": 3,
     "metadata": {},
     "output_type": "execute_result"
    }
   ],
   "source": [
    "data.describe()"
   ]
  },
  {
   "cell_type": "markdown",
   "metadata": {},
   "source": [
    "Now we are going to tackle the following research question:\n",
    "\n",
    "**Does being mentioned on Twitter make you more likely to tweet?**\n",
    "\n",
    "Our theory is that people are more likely to engage with platforms when other people on the platform engage with them! (that seems fairly obvious). Remember your project should have a question (or set of questions) which are something like this. "
   ]
  },
  {
   "cell_type": "markdown",
   "metadata": {},
   "source": [
    "We're going to start by running a simple OLS regression on the full dataset, treating it as a cross section (i.e. imaginging that all we did was measure the amount of tweets sent during the campaign period and the amount of mentions received). "
   ]
  },
  {
   "cell_type": "markdown",
   "metadata": {},
   "source": [
    "To do that we need to aggregate the dataframe at the person level, and sum up all the tweets produced and mentions received during that period. We can do that with the following code."
   ]
  },
  {
   "cell_type": "code",
   "execution_count": 4,
   "metadata": {},
   "outputs": [],
   "source": [
    "total_mp_data = data.groupby('tw_screenname').agg({\n",
    "    'candidate_tweets':'sum', \n",
    "    'mentions':'sum'\n",
    "})"
   ]
  },
  {
   "cell_type": "code",
   "execution_count": 5,
   "metadata": {},
   "outputs": [
    {
     "data": {
      "text/html": [
       "<div>\n",
       "<style scoped>\n",
       "    .dataframe tbody tr th:only-of-type {\n",
       "        vertical-align: middle;\n",
       "    }\n",
       "\n",
       "    .dataframe tbody tr th {\n",
       "        vertical-align: top;\n",
       "    }\n",
       "\n",
       "    .dataframe thead th {\n",
       "        text-align: right;\n",
       "    }\n",
       "</style>\n",
       "<table border=\"1\" class=\"dataframe\">\n",
       "  <thead>\n",
       "    <tr style=\"text-align: right;\">\n",
       "      <th></th>\n",
       "      <th>candidate_tweets</th>\n",
       "      <th>mentions</th>\n",
       "    </tr>\n",
       "    <tr>\n",
       "      <th>tw_screenname</th>\n",
       "      <th></th>\n",
       "      <th></th>\n",
       "    </tr>\n",
       "  </thead>\n",
       "  <tbody>\n",
       "    <tr>\n",
       "      <th>1tomcorbin</th>\n",
       "      <td>51</td>\n",
       "      <td>138</td>\n",
       "    </tr>\n",
       "    <tr>\n",
       "      <th>ABridgen</th>\n",
       "      <td>32</td>\n",
       "      <td>96</td>\n",
       "    </tr>\n",
       "    <tr>\n",
       "      <th>ACPayton</th>\n",
       "      <td>105</td>\n",
       "      <td>415</td>\n",
       "    </tr>\n",
       "    <tr>\n",
       "      <th>ACunninghamMP</th>\n",
       "      <td>188</td>\n",
       "      <td>390</td>\n",
       "    </tr>\n",
       "    <tr>\n",
       "      <th>AGarcarz</th>\n",
       "      <td>28</td>\n",
       "      <td>8</td>\n",
       "    </tr>\n",
       "  </tbody>\n",
       "</table>\n",
       "</div>"
      ],
      "text/plain": [
       "               candidate_tweets  mentions\n",
       "tw_screenname                            \n",
       "1tomcorbin                   51       138\n",
       "ABridgen                     32        96\n",
       "ACPayton                    105       415\n",
       "ACunninghamMP               188       390\n",
       "AGarcarz                     28         8"
      ]
     },
     "metadata": {},
     "output_type": "display_data"
    }
   ],
   "source": [
    "display(total_mp_data.head())"
   ]
  },
  {
   "cell_type": "markdown",
   "metadata": {},
   "source": [
    "Now, run a regression with mentions as the independent variable and the number of tweets sent as the dependent variable. Check the exercises from week 3 if you can't remember how to run a regression in python. Interpret the results - what can we say about the model and our research question on this basis? "
   ]
  },
  {
   "cell_type": "code",
   "execution_count": 10,
   "metadata": {},
   "outputs": [
    {
     "name": "stdout",
     "output_type": "stream",
     "text": [
      "Intercept    171.115179\n",
      "mentions       0.000473\n",
      "dtype: float64\n",
      "                            OLS Regression Results                            \n",
      "==============================================================================\n",
      "Dep. Variable:       candidate_tweets   R-squared:                       0.001\n",
      "Model:                            OLS   Adj. R-squared:                  0.000\n",
      "Method:                 Least Squares   F-statistic:                     1.489\n",
      "Date:                Mon, 19 Nov 2018   Prob (F-statistic):              0.223\n",
      "Time:                        13:39:37   Log-Likelihood:                -11277.\n",
      "No. Observations:                1698   AIC:                         2.256e+04\n",
      "Df Residuals:                    1696   BIC:                         2.257e+04\n",
      "Df Model:                           1                                         \n",
      "Covariance Type:            nonrobust                                         \n",
      "==============================================================================\n",
      "                 coef    std err          t      P>|t|      [0.025      0.975]\n",
      "------------------------------------------------------------------------------\n",
      "Intercept    171.1152      4.530     37.774      0.000     162.230     180.000\n",
      "mentions       0.0005      0.000      1.220      0.223      -0.000       0.001\n",
      "==============================================================================\n",
      "Omnibus:                     1360.311   Durbin-Watson:                   2.042\n",
      "Prob(Omnibus):                  0.000   Jarque-Bera (JB):            34099.128\n",
      "Skew:                           3.621   Prob(JB):                         0.00\n",
      "Kurtosis:                      23.725   Cond. No.                     1.18e+04\n",
      "==============================================================================\n",
      "\n",
      "Warnings:\n",
      "[1] Standard Errors assume that the covariance matrix of the errors is correctly specified.\n",
      "[2] The condition number is large, 1.18e+04. This might indicate that there are\n",
      "strong multicollinearity or other numerical problems.\n"
     ]
    }
   ],
   "source": [
    "result = smf.ols(formula=\"candidate_tweets ~ mentions\", data=total_mp_data).fit()\n",
    "\n",
    "print(result.params)\n",
    "print(result.summary())"
   ]
  },
  {
   "cell_type": "markdown",
   "metadata": {},
   "source": [
    "There are strong reasons to be suspicious of this simple OLS approach for the purposes of addressing this research question. What do you think some of the problems are?"
   ]
  },
  {
   "cell_type": "code",
   "execution_count": null,
   "metadata": {},
   "outputs": [],
   "source": []
  },
  {
   "cell_type": "markdown",
   "metadata": {},
   "source": [
    "Now let's look at how to do a first difference regression. This would allow us to make a stronger causal claim because we can resolve some (but not all) of the problems with the simple OLS design. "
   ]
  },
  {
   "cell_type": "markdown",
   "metadata": {},
   "source": [
    "The first thing we need to do is produce a new aggregation of our data preserving time periods per person. Let's work at the month level to start off with, so we will produce two observations per person in the dataset, one for each month. "
   ]
  },
  {
   "cell_type": "markdown",
   "metadata": {},
   "source": [
    "First we need to split up our date variable to get it at the month level."
   ]
  },
  {
   "cell_type": "code",
   "execution_count": 11,
   "metadata": {},
   "outputs": [],
   "source": [
    "data['y'], data['m'], data['d'] = data['day'].str.split('-').str\n",
    "#the above command is a bit unintuitive. see a good explanation here: \n",
    "#https://stackoverflow.com/questions/44866225/pandas-dataframe-splitting-series-strings-into-multiple-columns\n",
    "data['m'] = data['m'].astype(int)"
   ]
  },
  {
   "cell_type": "markdown",
   "metadata": {},
   "source": [
    "Explore the month variable a little bit. How many observations are there per month? Is Twitter activity generally higher or lower in month 1 or month 2?"
   ]
  },
  {
   "cell_type": "code",
   "execution_count": 23,
   "metadata": {},
   "outputs": [
    {
     "data": {
      "text/plain": [
       "m\n",
       "5    200583\n",
       "6     91006\n",
       "Name: candidate_tweets, dtype: int64"
      ]
     },
     "metadata": {},
     "output_type": "display_data"
    }
   ],
   "source": [
    "display(data.groupby('m').candidate_tweets.sum())"
   ]
  },
  {
   "cell_type": "markdown",
   "metadata": {},
   "source": [
    "Now let's aggregate activity by person month. Note that Gender and Party are constant in each group. Any function which selects one of the values (e.g. max, min) would work in this context because they are all the same. "
   ]
  },
  {
   "cell_type": "code",
   "execution_count": 24,
   "metadata": {},
   "outputs": [
    {
     "data": {
      "text/html": [
       "<div>\n",
       "<style scoped>\n",
       "    .dataframe tbody tr th:only-of-type {\n",
       "        vertical-align: middle;\n",
       "    }\n",
       "\n",
       "    .dataframe tbody tr th {\n",
       "        vertical-align: top;\n",
       "    }\n",
       "\n",
       "    .dataframe thead th {\n",
       "        text-align: right;\n",
       "    }\n",
       "</style>\n",
       "<table border=\"1\" class=\"dataframe\">\n",
       "  <thead>\n",
       "    <tr style=\"text-align: right;\">\n",
       "      <th></th>\n",
       "      <th></th>\n",
       "      <th>candidate_tweets</th>\n",
       "      <th>mentions</th>\n",
       "      <th>Gender</th>\n",
       "      <th>Party</th>\n",
       "    </tr>\n",
       "    <tr>\n",
       "      <th>tw_screenname</th>\n",
       "      <th>m</th>\n",
       "      <th></th>\n",
       "      <th></th>\n",
       "      <th></th>\n",
       "      <th></th>\n",
       "    </tr>\n",
       "  </thead>\n",
       "  <tbody>\n",
       "    <tr>\n",
       "      <th rowspan=\"2\" valign=\"top\">1tomcorbin</th>\n",
       "      <th>5</th>\n",
       "      <td>32</td>\n",
       "      <td>129</td>\n",
       "      <td>male</td>\n",
       "      <td>Labour Party</td>\n",
       "    </tr>\n",
       "    <tr>\n",
       "      <th>6</th>\n",
       "      <td>19</td>\n",
       "      <td>9</td>\n",
       "      <td>male</td>\n",
       "      <td>Labour Party</td>\n",
       "    </tr>\n",
       "    <tr>\n",
       "      <th rowspan=\"2\" valign=\"top\">ABridgen</th>\n",
       "      <th>5</th>\n",
       "      <td>29</td>\n",
       "      <td>66</td>\n",
       "      <td>male</td>\n",
       "      <td>Conservative and Unionist Party</td>\n",
       "    </tr>\n",
       "    <tr>\n",
       "      <th>6</th>\n",
       "      <td>3</td>\n",
       "      <td>30</td>\n",
       "      <td>male</td>\n",
       "      <td>Conservative and Unionist Party</td>\n",
       "    </tr>\n",
       "    <tr>\n",
       "      <th>ACPayton</th>\n",
       "      <th>5</th>\n",
       "      <td>60</td>\n",
       "      <td>278</td>\n",
       "      <td>male</td>\n",
       "      <td>Liberal Democrats</td>\n",
       "    </tr>\n",
       "  </tbody>\n",
       "</table>\n",
       "</div>"
      ],
      "text/plain": [
       "                 candidate_tweets  mentions Gender  \\\n",
       "tw_screenname m                                      \n",
       "1tomcorbin    5                32       129   male   \n",
       "              6                19         9   male   \n",
       "ABridgen      5                29        66   male   \n",
       "              6                 3        30   male   \n",
       "ACPayton      5                60       278   male   \n",
       "\n",
       "                                           Party  \n",
       "tw_screenname m                                   \n",
       "1tomcorbin    5                     Labour Party  \n",
       "              6                     Labour Party  \n",
       "ABridgen      5  Conservative and Unionist Party  \n",
       "              6  Conservative and Unionist Party  \n",
       "ACPayton      5                Liberal Democrats  "
      ]
     },
     "execution_count": 24,
     "metadata": {},
     "output_type": "execute_result"
    }
   ],
   "source": [
    "mp_data = data.groupby(['tw_screenname', 'm']).agg({\n",
    "    'candidate_tweets':'sum', \n",
    "    'mentions':'sum', \n",
    "    'Gender' : 'max',\n",
    "    'Party' : 'max'\n",
    "})\n",
    "mp_data.head()"
   ]
  },
  {
   "cell_type": "markdown",
   "metadata": {},
   "source": [
    "This dataset contains a count of tweets and mentions per MP for each month, i.e. May and June. Check the size of the dataset and compare it to the number of candidates. What do you notice?"
   ]
  },
  {
   "cell_type": "code",
   "execution_count": 38,
   "metadata": {},
   "outputs": [
    {
     "name": "stdout",
     "output_type": "stream",
     "text": [
      "291589\n",
      "2190582\n",
      "3375\n"
     ]
    }
   ],
   "source": [
    "print(mp_data.candidate_tweets.sum())\n",
    "print(mp_data.mentions.sum())\n",
    "print(len(mp_data.index.value_counts()))"
   ]
  },
  {
   "cell_type": "markdown",
   "metadata": {},
   "source": [
    "The amount of observations should be twice the number of candidates (i.e. one observation per month). It isn't, because some MPs had no observed data for that month. \n",
    "\n",
    "We need to fill in these blank values. We can do this with the following (this is a common problem with time series data; make sure you document all of these kind of data transformation details for your assignment):"
   ]
  },
  {
   "cell_type": "code",
   "execution_count": 39,
   "metadata": {},
   "outputs": [],
   "source": [
    "(mps, months) = mp_data.index.levels\n",
    "new_index = pd.MultiIndex.from_product([mps, months])\n",
    "mp_data = mp_data.reindex(new_index)\n",
    "mp_data[['candidate_tweets', 'mentions']] = mp_data[['candidate_tweets', 'mentions']].fillna(0).astype(int)"
   ]
  },
  {
   "cell_type": "markdown",
   "metadata": {},
   "source": [
    "Now we want to take the differences of tweets and mentions. We can do this with the following:"
   ]
  },
  {
   "cell_type": "code",
   "execution_count": 40,
   "metadata": {},
   "outputs": [
    {
     "data": {
      "text/html": [
       "<div>\n",
       "<style scoped>\n",
       "    .dataframe tbody tr th:only-of-type {\n",
       "        vertical-align: middle;\n",
       "    }\n",
       "\n",
       "    .dataframe tbody tr th {\n",
       "        vertical-align: top;\n",
       "    }\n",
       "\n",
       "    .dataframe thead th {\n",
       "        text-align: right;\n",
       "    }\n",
       "</style>\n",
       "<table border=\"1\" class=\"dataframe\">\n",
       "  <thead>\n",
       "    <tr style=\"text-align: right;\">\n",
       "      <th></th>\n",
       "      <th></th>\n",
       "      <th>candidate_tweets</th>\n",
       "      <th>mentions</th>\n",
       "      <th>Gender</th>\n",
       "      <th>Party</th>\n",
       "      <th>candidate_tweets_diffed</th>\n",
       "      <th>mentions_diffed</th>\n",
       "    </tr>\n",
       "  </thead>\n",
       "  <tbody>\n",
       "    <tr>\n",
       "      <th rowspan=\"2\" valign=\"top\">1tomcorbin</th>\n",
       "      <th>5</th>\n",
       "      <td>32</td>\n",
       "      <td>129</td>\n",
       "      <td>male</td>\n",
       "      <td>Labour Party</td>\n",
       "      <td>NaN</td>\n",
       "      <td>NaN</td>\n",
       "    </tr>\n",
       "    <tr>\n",
       "      <th>6</th>\n",
       "      <td>19</td>\n",
       "      <td>9</td>\n",
       "      <td>male</td>\n",
       "      <td>Labour Party</td>\n",
       "      <td>-13.0</td>\n",
       "      <td>-120.0</td>\n",
       "    </tr>\n",
       "    <tr>\n",
       "      <th rowspan=\"2\" valign=\"top\">ABridgen</th>\n",
       "      <th>5</th>\n",
       "      <td>29</td>\n",
       "      <td>66</td>\n",
       "      <td>male</td>\n",
       "      <td>Conservative and Unionist Party</td>\n",
       "      <td>NaN</td>\n",
       "      <td>NaN</td>\n",
       "    </tr>\n",
       "    <tr>\n",
       "      <th>6</th>\n",
       "      <td>3</td>\n",
       "      <td>30</td>\n",
       "      <td>male</td>\n",
       "      <td>Conservative and Unionist Party</td>\n",
       "      <td>-26.0</td>\n",
       "      <td>-36.0</td>\n",
       "    </tr>\n",
       "    <tr>\n",
       "      <th>ACPayton</th>\n",
       "      <th>5</th>\n",
       "      <td>60</td>\n",
       "      <td>278</td>\n",
       "      <td>male</td>\n",
       "      <td>Liberal Democrats</td>\n",
       "      <td>NaN</td>\n",
       "      <td>NaN</td>\n",
       "    </tr>\n",
       "  </tbody>\n",
       "</table>\n",
       "</div>"
      ],
      "text/plain": [
       "              candidate_tweets  mentions Gender  \\\n",
       "1tomcorbin 5                32       129   male   \n",
       "           6                19         9   male   \n",
       "ABridgen   5                29        66   male   \n",
       "           6                 3        30   male   \n",
       "ACPayton   5                60       278   male   \n",
       "\n",
       "                                        Party  candidate_tweets_diffed  \\\n",
       "1tomcorbin 5                     Labour Party                      NaN   \n",
       "           6                     Labour Party                    -13.0   \n",
       "ABridgen   5  Conservative and Unionist Party                      NaN   \n",
       "           6  Conservative and Unionist Party                    -26.0   \n",
       "ACPayton   5                Liberal Democrats                      NaN   \n",
       "\n",
       "              mentions_diffed  \n",
       "1tomcorbin 5              NaN  \n",
       "           6           -120.0  \n",
       "ABridgen   5              NaN  \n",
       "           6            -36.0  \n",
       "ACPayton   5              NaN  "
      ]
     },
     "execution_count": 40,
     "metadata": {},
     "output_type": "execute_result"
    }
   ],
   "source": [
    "mp_data[['candidate_tweets_diffed', 'mentions_diffed']] = mp_data.groupby(level=0).diff()\n",
    "mp_data.head()"
   ]
  },
  {
   "cell_type": "markdown",
   "metadata": {},
   "source": [
    "Now you can run an OLS regression on the differenced data. Run it and interpret the output. What do you find?"
   ]
  },
  {
   "cell_type": "code",
   "execution_count": 48,
   "metadata": {},
   "outputs": [
    {
     "name": "stdout",
     "output_type": "stream",
     "text": [
      "Intercept                                 -70.843345\n",
      "Gender[T.female, transgender]            -102.161062\n",
      "Gender[T.male]                             -5.015959\n",
      "Gender[T.non-binary]                     -285.197630\n",
      "Party[T.Green Party]                       18.041450\n",
      "Party[T.Labour Party]                       1.006780\n",
      "Party[T.Liberal Democrats]                 12.606696\n",
      "Party[T.Scottish National Party (SNP)]     -1.417113\n",
      "Party[T.UK Independence Party (UKIP)]      71.350258\n",
      "mentions_diffed                             0.000475\n",
      "dtype: float64\n",
      "                               OLS Regression Results                              \n",
      "===================================================================================\n",
      "Dep. Variable:     candidate_tweets_diffed   R-squared:                       0.025\n",
      "Model:                                 OLS   Adj. R-squared:                  0.020\n",
      "Method:                      Least Squares   F-statistic:                     4.742\n",
      "Date:                     Mon, 19 Nov 2018   Prob (F-statistic):           2.99e-06\n",
      "Time:                             14:06:07   Log-Likelihood:                -10396.\n",
      "No. Observations:                     1663   AIC:                         2.081e+04\n",
      "Df Residuals:                         1653   BIC:                         2.087e+04\n",
      "Df Model:                                9                                         \n",
      "Covariance Type:                 nonrobust                                         \n",
      "==========================================================================================================\n",
      "                                             coef    std err          t      P>|t|      [0.025      0.975]\n",
      "----------------------------------------------------------------------------------------------------------\n",
      "Intercept                                -70.8433      7.703     -9.197      0.000     -85.952     -55.735\n",
      "Gender[T.female, transgender]           -102.1611    126.072     -0.810      0.418    -349.438     145.116\n",
      "Gender[T.male]                            -5.0160      6.708     -0.748      0.455     -18.173       8.141\n",
      "Gender[T.non-binary]                    -285.1976     89.486     -3.187      0.001    -460.716    -109.679\n",
      "Party[T.Green Party]                      18.0414     10.150      1.777      0.076      -1.868      37.950\n",
      "Party[T.Labour Party]                      1.0068      8.513      0.118      0.906     -15.691      17.705\n",
      "Party[T.Liberal Democrats]                12.6067      8.780      1.436      0.151      -4.615      29.828\n",
      "Party[T.Scottish National Party (SNP)]    -1.4171     19.713     -0.072      0.943     -40.082      37.248\n",
      "Party[T.UK Independence Party (UKIP)]     71.3503     13.825      5.161      0.000      44.233      98.467\n",
      "mentions_diffed                            0.0005      0.000      1.275      0.202      -0.000       0.001\n",
      "==============================================================================\n",
      "Omnibus:                     1183.748   Durbin-Watson:                   2.011\n",
      "Prob(Omnibus):                  0.000   Jarque-Bera (JB):            34083.572\n",
      "Skew:                          -2.960   Prob(JB):                         0.00\n",
      "Kurtosis:                      24.374   Cond. No.                     3.40e+05\n",
      "==============================================================================\n",
      "\n",
      "Warnings:\n",
      "[1] Standard Errors assume that the covariance matrix of the errors is correctly specified.\n",
      "[2] The condition number is large, 3.4e+05. This might indicate that there are\n",
      "strong multicollinearity or other numerical problems.\n"
     ]
    }
   ],
   "source": [
    "result = smf.ols(formula=\"candidate_tweets_diffed ~ mentions_diffed+Gender+Party\", data=mp_data).fit()\n",
    "\n",
    "print(result.params)\n",
    "print(result.summary())"
   ]
  },
  {
   "cell_type": "markdown",
   "metadata": {},
   "source": [
    "As a next step, add our two time invariant variables (Gender and Party) to the regression and rerun the model. How can we interpret these coefficients in a first difference context?"
   ]
  },
  {
   "cell_type": "code",
   "execution_count": null,
   "metadata": {},
   "outputs": [],
   "source": []
  },
  {
   "cell_type": "markdown",
   "metadata": {},
   "source": [
    "If you have more than two time periods in the data, we can also use a first difference design. In this case, the difference between successive time periods is taken (i.e. the t3 - t2 and t2 - t1 differences will both be in the dataset). In this case we also need to account for a dependence structure in the data as t2 is present twice. We can do this using our simple OLS tool but we may as well switch to a package which is specifically designed for this type of data, which is called `linearmodels` (see reference here: https://bashtage.github.io/linearmodels/doc/panel/index.html; if you prefer to operate in R check the `plm` package). \n",
    "\n",
    "We can bring in a new package using the following: `!pip install linearmodels`\n"
   ]
  },
  {
   "cell_type": "code",
   "execution_count": null,
   "metadata": {},
   "outputs": [],
   "source": []
  },
  {
   "cell_type": "markdown",
   "metadata": {},
   "source": [
    "Let's first fit our existing model with the linear models package"
   ]
  },
  {
   "cell_type": "code",
   "execution_count": 50,
   "metadata": {},
   "outputs": [
    {
     "name": "stdout",
     "output_type": "stream",
     "text": [
      "                     FirstDifferenceOLS Estimation Summary                      \n",
      "================================================================================\n",
      "Dep. Variable:       candidate_tweets   R-squared:                        0.0031\n",
      "Estimator:         FirstDifferenceOLS   R-squared (Between):              0.0066\n",
      "No. Observations:                1698   R-squared (Within):               0.0031\n",
      "Date:                Mon, Nov 19 2018   R-squared (Overall):              0.0058\n",
      "Time:                        14:08:19   Log-likelihood                -1.083e+04\n",
      "Cov. Estimator:            Unadjusted                                           \n",
      "                                        F-statistic:                      5.3313\n",
      "Entities:                        1698   P-value                           0.0211\n",
      "Avg Obs:                       2.0000   Distribution:                  F(1,1697)\n",
      "Min Obs:                       2.0000                                           \n",
      "Max Obs:                       2.0000   F-statistic (robust):             5.3313\n",
      "                                        P-value                           0.0211\n",
      "Time periods:                       2   Distribution:                  F(1,1697)\n",
      "Avg Obs:                       1698.0                                           \n",
      "Min Obs:                       1698.0                                           \n",
      "Max Obs:                       1698.0                                           \n",
      "                                                                                \n",
      "                             Parameter Estimates                              \n",
      "==============================================================================\n",
      "            Parameter  Std. Err.     T-stat    P-value    Lower CI    Upper CI\n",
      "------------------------------------------------------------------------------\n",
      "mentions       0.0010     0.0004     2.3090     0.0211      0.0001      0.0018\n",
      "==============================================================================\n"
     ]
    }
   ],
   "source": [
    "from linearmodels import FirstDifferenceOLS\n",
    "mod = FirstDifferenceOLS.from_formula('candidate_tweets ~ mentions', mp_data)\n",
    "res = mod.fit()\n",
    "print(res)"
   ]
  },
  {
   "cell_type": "markdown",
   "metadata": {},
   "source": [
    "The model is a little different to our previous model. What is the cause of the difference?"
   ]
  },
  {
   "cell_type": "code",
   "execution_count": null,
   "metadata": {},
   "outputs": [],
   "source": []
  },
  {
   "cell_type": "markdown",
   "metadata": {},
   "source": [
    "Now let's look at the multiple period case. Let's work with differences at the day level. Use the below code to get the data ready. "
   ]
  },
  {
   "cell_type": "code",
   "execution_count": 44,
   "metadata": {},
   "outputs": [
    {
     "data": {
      "text/html": [
       "<div>\n",
       "<style scoped>\n",
       "    .dataframe tbody tr th:only-of-type {\n",
       "        vertical-align: middle;\n",
       "    }\n",
       "\n",
       "    .dataframe tbody tr th {\n",
       "        vertical-align: top;\n",
       "    }\n",
       "\n",
       "    .dataframe thead th {\n",
       "        text-align: right;\n",
       "    }\n",
       "</style>\n",
       "<table border=\"1\" class=\"dataframe\">\n",
       "  <thead>\n",
       "    <tr style=\"text-align: right;\">\n",
       "      <th></th>\n",
       "      <th></th>\n",
       "      <th>candidate_tweets</th>\n",
       "      <th>mentions</th>\n",
       "    </tr>\n",
       "  </thead>\n",
       "  <tbody>\n",
       "    <tr>\n",
       "      <th rowspan=\"5\" valign=\"top\">1tomcorbin</th>\n",
       "      <th>136</th>\n",
       "      <td>4</td>\n",
       "      <td>13</td>\n",
       "    </tr>\n",
       "    <tr>\n",
       "      <th>137</th>\n",
       "      <td>3</td>\n",
       "      <td>11</td>\n",
       "    </tr>\n",
       "    <tr>\n",
       "      <th>138</th>\n",
       "      <td>0</td>\n",
       "      <td>8</td>\n",
       "    </tr>\n",
       "    <tr>\n",
       "      <th>139</th>\n",
       "      <td>7</td>\n",
       "      <td>19</td>\n",
       "    </tr>\n",
       "    <tr>\n",
       "      <th>140</th>\n",
       "      <td>0</td>\n",
       "      <td>12</td>\n",
       "    </tr>\n",
       "  </tbody>\n",
       "</table>\n",
       "</div>"
      ],
      "text/plain": [
       "                candidate_tweets  mentions\n",
       "1tomcorbin 136                 4        13\n",
       "           137                 3        11\n",
       "           138                 0         8\n",
       "           139                 7        19\n",
       "           140                 0        12"
      ]
     },
     "execution_count": 44,
     "metadata": {},
     "output_type": "execute_result"
    }
   ],
   "source": [
    "from datetime import datetime\n",
    "data['day_of_year'] = data['day'].apply(datetime.strptime, args=(\"%Y-%m-%d\",)) \n",
    "data['day_of_year'] = data['day_of_year'].apply(datetime.timetuple)\n",
    "data['day_of_year'] = data['day_of_year'].apply(lambda x: x.tm_yday)\n",
    "\n",
    "mp_data_days = data.groupby(['tw_screenname', 'day_of_year']).agg({\n",
    "    'candidate_tweets':'sum', \n",
    "    'mentions':'sum', \n",
    "})\n",
    "(mps, days) = mp_data_days.index.levels\n",
    "new_index = pd.MultiIndex.from_product([mps, days])\n",
    "mp_data_days = mp_data_days.reindex(new_index)\n",
    "mp_data_days = mp_data_days.fillna(0).astype(int)\n",
    "mp_data_days.head()"
   ]
  },
  {
   "cell_type": "markdown",
   "metadata": {},
   "source": [
    "The regression is then given by the following:"
   ]
  },
  {
   "cell_type": "code",
   "execution_count": 45,
   "metadata": {},
   "outputs": [
    {
     "name": "stdout",
     "output_type": "stream",
     "text": [
      "                     FirstDifferenceOLS Estimation Summary                      \n",
      "================================================================================\n",
      "Dep. Variable:       candidate_tweets   R-squared:                        0.0020\n",
      "Estimator:         FirstDifferenceOLS   R-squared (Between):              0.0065\n",
      "No. Observations:               39054   R-squared (Within):               0.0010\n",
      "Date:                Mon, Nov 19 2018   R-squared (Overall):              0.0031\n",
      "Time:                        13:57:45   Log-likelihood                 -1.65e+05\n",
      "Cov. Estimator:             Clustered                                           \n",
      "                                        F-statistic:                      79.158\n",
      "Entities:                        1698   P-value                           0.0000\n",
      "Avg Obs:                       24.000   Distribution:                 F(1,39053)\n",
      "Min Obs:                       24.000                                           \n",
      "Max Obs:                       24.000   F-statistic (robust):             8.8722\n",
      "                                        P-value                           0.0029\n",
      "Time periods:                      24   Distribution:                 F(1,39053)\n",
      "Avg Obs:                       1698.0                                           \n",
      "Min Obs:                       1698.0                                           \n",
      "Max Obs:                       1698.0                                           \n",
      "                                                                                \n",
      "                             Parameter Estimates                              \n",
      "==============================================================================\n",
      "            Parameter  Std. Err.     T-stat    P-value    Lower CI    Upper CI\n",
      "------------------------------------------------------------------------------\n",
      "mentions       0.0009     0.0003     2.9786     0.0029      0.0003      0.0015\n",
      "==============================================================================\n"
     ]
    }
   ],
   "source": [
    "from linearmodels import FirstDifferenceOLS\n",
    "mod = FirstDifferenceOLS.from_formula('candidate_tweets ~ mentions', mp_data_days)\n",
    "res = mod.fit(cov_type='clustered', cluster_entity=True)\n",
    "print(res)"
   ]
  },
  {
   "cell_type": "markdown",
   "metadata": {},
   "source": [
    "NB: When we have more than two time periods many people would also recommend using a multilevel design (either fixed or random effects) where the group is the individual themselves (and indeed there are a couple of different ways of implementing this). This design follows a very similar logic to first difference in that what you are assessing is how individuals differ from themselves at different time points, rather than how they differ from each other. The design is often recommended over first difference because it preserves more data (when you are differencing data you inevitably lose one time period from the analysis). The two designs will produce identical results when there are only two time periods. "
   ]
  },
  {
   "cell_type": "code",
   "execution_count": 46,
   "metadata": {},
   "outputs": [
    {
     "name": "stdout",
     "output_type": "stream",
     "text": [
      "                          PanelOLS Estimation Summary                           \n",
      "================================================================================\n",
      "Dep. Variable:       candidate_tweets   R-squared:                        0.0031\n",
      "Estimator:                   PanelOLS   R-squared (Between):              0.0066\n",
      "No. Observations:                3396   R-squared (Within):               0.0031\n",
      "Date:                Mon, Nov 19 2018   R-squared (Overall):              0.0058\n",
      "Time:                        13:57:50   Log-likelihood                 -1.93e+04\n",
      "Cov. Estimator:            Unadjusted                                           \n",
      "                                        F-statistic:                      5.3313\n",
      "Entities:                        1698   P-value                           0.0211\n",
      "Avg Obs:                       2.0000   Distribution:                  F(1,1697)\n",
      "Min Obs:                       2.0000                                           \n",
      "Max Obs:                       2.0000   F-statistic (robust):             5.3313\n",
      "                                        P-value                           0.0211\n",
      "Time periods:                       2   Distribution:                  F(1,1697)\n",
      "Avg Obs:                       1698.0                                           \n",
      "Min Obs:                       1698.0                                           \n",
      "Max Obs:                       1698.0                                           \n",
      "                                                                                \n",
      "                             Parameter Estimates                              \n",
      "==============================================================================\n",
      "            Parameter  Std. Err.     T-stat    P-value    Lower CI    Upper CI\n",
      "------------------------------------------------------------------------------\n",
      "mentions       0.0010     0.0004     2.3090     0.0211      0.0001      0.0018\n",
      "==============================================================================\n",
      "\n",
      "F-test for Poolability: 1.7012\n",
      "P-value: 0.0000\n",
      "Distribution: F(1697,1697)\n",
      "\n",
      "Included effects: Entity\n"
     ]
    }
   ],
   "source": [
    "from linearmodels import PanelOLS\n",
    "mod = PanelOLS.from_formula('candidate_tweets ~ mentions + EntityEffects', mp_data)\n",
    "res = mod.fit()\n",
    "print(res)"
   ]
  },
  {
   "cell_type": "markdown",
   "metadata": {},
   "source": [
    "Probably you noticed the R2 for all these models is pretty poor! Investigate the distribution of the input variables and see if you can find an appropriate transformation to make them approach normality. Rerun the first difference regression with this transformation and interpret the results."
   ]
  },
  {
   "cell_type": "code",
   "execution_count": null,
   "metadata": {},
   "outputs": [],
   "source": []
  },
  {
   "cell_type": "markdown",
   "metadata": {},
   "source": [
    "The point of working with the first difference design is to eliminate unmeasured time invariant effects. What do you think the time invariant effects might be in this particular case? Are there any hidden time variant effects we should be concerned about? Discuss with your neighbour. "
   ]
  },
  {
   "cell_type": "code",
   "execution_count": null,
   "metadata": {},
   "outputs": [],
   "source": []
  },
  {
   "cell_type": "markdown",
   "metadata": {},
   "source": [
    "There are several other variables in the dataset (e.g. followers, retweets). Run another first difference regression using some of these other variables. What do you find?"
   ]
  },
  {
   "cell_type": "code",
   "execution_count": null,
   "metadata": {},
   "outputs": [],
   "source": []
  }
 ],
 "metadata": {
  "kernelspec": {
   "display_name": "Python 3",
   "language": "python",
   "name": "python3"
  },
  "language_info": {
   "codemirror_mode": {
    "name": "ipython",
    "version": 3
   },
   "file_extension": ".py",
   "mimetype": "text/x-python",
   "name": "python",
   "nbconvert_exporter": "python",
   "pygments_lexer": "ipython3",
   "version": "3.6.6"
  }
 },
 "nbformat": 4,
 "nbformat_minor": 2
}
