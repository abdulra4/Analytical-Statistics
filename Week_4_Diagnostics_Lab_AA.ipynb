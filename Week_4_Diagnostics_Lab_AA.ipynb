{
 "cells": [
  {
   "cell_type": "markdown",
   "metadata": {},
   "source": [
    "# Week 4: Diagnostics\n",
    "\n",
    "* Based on the material by David Ziganto, Linear Regression 101 (Part 3 - Assumptions & Evaluation)"
   ]
  },
  {
   "cell_type": "code",
   "execution_count": 1,
   "metadata": {},
   "outputs": [],
   "source": [
    "# Load\n",
    "import numpy as np\n",
    "import matplotlib.pyplot as plt\n",
    "import numpy as np\n",
    "%matplotlib inline\n",
    "\n",
    "from sklearn.linear_model import LinearRegression"
   ]
  },
  {
   "cell_type": "code",
   "execution_count": 2,
   "metadata": {},
   "outputs": [],
   "source": [
    "# Define\n",
    "\n",
    "class Stats:\n",
    "    \n",
    "    def __init__(self, X, y, model):\n",
    "        self.data = X\n",
    "        self.target = y\n",
    "        self.model = model\n",
    "        ## degrees of freedom population dep. variable variance\n",
    "        self._dft = X.shape[0] - 1   \n",
    "        ## degrees of freedom population error variance\n",
    "        self._dfe = X.shape[0] - X.shape[1] - 1  \n",
    "    \n",
    "    def sse(self):\n",
    "        '''returns sum of squared errors (model vs actual)'''\n",
    "        squared_errors = (self.target - self.model.predict(self.data)) ** 2\n",
    "        return np.sum(squared_errors)\n",
    "        \n",
    "    def sst(self):\n",
    "        '''returns total sum of squared errors (actual vs avg(actual))'''\n",
    "        avg_y = np.mean(self.target)\n",
    "        squared_errors = (self.target - avg_y) ** 2\n",
    "        return np.sum(squared_errors)\n",
    "    \n",
    "    def r_squared(self):\n",
    "        '''returns calculated value of r^2'''\n",
    "        return 1 - self.sse()/self.sst()\n",
    "    \n",
    "    def adj_r_squared(self):\n",
    "        '''returns calculated value of adjusted r^2'''\n",
    "        return 1 - (self.sse()/self._dfe) / (self.sst()/self._dft)\n",
    "    \n",
    "def pretty_print_stats(stats_obj):\n",
    "        '''returns report of statistics for a given model object'''\n",
    "        items = ( ('sse:', stats_obj.sse()), ('sst:', stats_obj.sst()), \n",
    "                 ('r^2:', stats_obj.r_squared()), ('adj_r^2:', stats_obj.adj_r_squared()) )\n",
    "        for item in items:\n",
    "            print('{0:8} {1:.4f}'.format(item[0], item[1])) "
   ]
  },
  {
   "cell_type": "markdown",
   "metadata": {},
   "source": [
    "## 1a. Linear relationship"
   ]
  },
  {
   "cell_type": "code",
   "execution_count": 3,
   "metadata": {},
   "outputs": [],
   "source": [
    "np.random.seed(20)\n",
    "x = np.arange(20)\n",
    "y = [x*2 + np.random.rand(1)*4 for x in range(20)]\n",
    "x_reshape = x.reshape(-1,1)"
   ]
  },
  {
   "cell_type": "code",
   "execution_count": 5,
   "metadata": {},
   "outputs": [],
   "source": [
    "linear = LinearRegression()\n",
    "linear.fit(x_reshape, y);"
   ]
  },
  {
   "cell_type": "code",
   "execution_count": 6,
   "metadata": {},
   "outputs": [
    {
     "data": {
      "image/png": "[encoded data removed]",
      "text/plain": [
       "<Figure size 432x288 with 1 Axes>"
      ]
     },
     "metadata": {},
     "output_type": "display_data"
    }
   ],
   "source": [
    "plt.plot(x_reshape, y,'ks',label='data')\n",
    "plt.plot(x_reshape, linear.predict(x_reshape),'r-',label='fit')\n",
    "plt.grid()\n",
    "plt.legend();"
   ]
  },
  {
   "cell_type": "markdown",
   "metadata": {},
   "source": [
    "### QUESTIONS \n",
    "* Compute the summary statistics (sse, sst, r^2 and adj_r^2), using e.g. \n",
    "    * `this_stat = Stats(x_reshape, y, linear)`\n",
    "    * `pretty_print_stats(this_stat)`\n",
    "\n",
    "* Comment on the fit and the values obtained"
   ]
  },
  {
   "cell_type": "code",
   "execution_count": 7,
   "metadata": {},
   "outputs": [
    {
     "name": "stdout",
     "output_type": "stream",
     "text": [
      "sse:     24.3975\n",
      "sst:     2502.9934\n",
      "r^2:     0.9903\n",
      "adj_r^2: 0.9897\n"
     ]
    }
   ],
   "source": [
    "# Stats\n",
    "this_stat = Stats(x_reshape, y, linear)\n",
    "pretty_print_stats(this_stat)"
   ]
  },
  {
   "cell_type": "markdown",
   "metadata": {},
   "source": [
    "## 1b. Nonlinear relationship"
   ]
  },
  {
   "cell_type": "code",
   "execution_count": 8,
   "metadata": {},
   "outputs": [],
   "source": [
    "y_nonlinear = [x**3 + np.random.rand(1)*10 for x in range(20)]\n",
    "nonlinear = LinearRegression()\n",
    "nonlinear.fit(x_reshape, y_nonlinear);"
   ]
  },
  {
   "cell_type": "markdown",
   "metadata": {},
   "source": [
    "### Data and  regression line"
   ]
  },
  {
   "cell_type": "code",
   "execution_count": 9,
   "metadata": {},
   "outputs": [
    {
     "data": {
      "image/png": "[encoded data removed]",
      "text/plain": [
       "<Figure size 432x288 with 1 Axes>"
      ]
     },
     "metadata": {},
     "output_type": "display_data"
    }
   ],
   "source": [
    "plt.plot(x_reshape, y_nonlinear,'ks',label='data')\n",
    "plt.plot(x_reshape, nonlinear.predict(x_reshape),'r-',label='fit')\n",
    "plt.grid()\n",
    "plt.legend();"
   ]
  },
  {
   "cell_type": "markdown",
   "metadata": {},
   "source": [
    "### QUESTIONS / TASKS\n",
    "* Compute again the summary statistics (sse, sst, r^2 and adj_r^2).\n",
    "* Plot the residuals agains the fitted values. You can use\n",
    "    * `plt.plot(linear.predict(x_reshape), y-linear.predict(x_reshape), 'bo')`\n",
    "    * `plt.plot(nonlinear.predict(x_reshape), y_nonlinear-nonlinear.predict(x_reshape), 'ro')`\n",
    "* Comment on the fit and the values obtained\n",
    "* Is the linear approach suitable for this data?"
   ]
  },
  {
   "cell_type": "code",
   "execution_count": 10,
   "metadata": {},
   "outputs": [
    {
     "name": "stdout",
     "output_type": "stream",
     "text": [
      "sse:     14702044.1585\n",
      "sst:     87205080.0323\n",
      "r^2:     0.8314\n",
      "adj_r^2: 0.8220\n"
     ]
    }
   ],
   "source": [
    "this_stat = Stats(x_reshape, y_nonlinear, nonlinear)\n",
    "pretty_print_stats(this_stat)"
   ]
  },
  {
   "cell_type": "code",
   "execution_count": 11,
   "metadata": {},
   "outputs": [
    {
     "data": {
      "image/png": "[encoded data removed]",
      "text/plain": [
       "<Figure size 432x288 with 2 Axes>"
      ]
     },
     "metadata": {},
     "output_type": "display_data"
    }
   ],
   "source": [
    "plt.subplot(121)\n",
    "plt.plot(linear.predict(x_reshape), y-linear.predict(x_reshape), 'bo')\n",
    "plt.axhline(y=0, color='k')\n",
    "plt.title('Linear')\n",
    "plt.xlabel('fitted values')\n",
    "plt.ylabel('residuals')\n",
    "plt.grid()\n",
    "\n",
    "plt.subplot(122)\n",
    "plt.plot(nonlinear.predict(x_reshape), y_nonlinear-nonlinear.predict(x_reshape), 'ro')\n",
    "plt.axhline(y=0, color='k')\n",
    "plt.title('Non-Linear')\n",
    "plt.xlabel('fitted values')\n",
    "plt.grid()\n",
    "\n",
    "plt.subplots_adjust(top=0.8, bottom=0.08, left=0.0, right=1.3, hspace=5, wspace=0.5)"
   ]
  },
  {
   "cell_type": "markdown",
   "metadata": {},
   "source": [
    "### Possible Solutions to Nonlinear Data\n",
    "* Consider transforming the features\n",
    "* Consider applying a different algorithm"
   ]
  },
  {
   "cell_type": "code",
   "execution_count": 12,
   "metadata": {},
   "outputs": [],
   "source": [
    "from sklearn.pipeline import Pipeline\n",
    "from sklearn.preprocessing import PolynomialFeatures\n",
    "\n",
    "poly = Pipeline([('poly', PolynomialFeatures(degree=3)),('linear', LinearRegression(fit_intercept=False))])\n",
    "poly.fit(x_reshape, y_nonlinear);"
   ]
  },
  {
   "cell_type": "code",
   "execution_count": 290,
   "metadata": {},
   "outputs": [
    {
     "data": {
      "text/plain": [
       "<matplotlib.legend.Legend at 0x1c1e295828>"
      ]
     },
     "execution_count": 290,
     "metadata": {},
     "output_type": "execute_result"
    },
    {
     "data": {
      "image/png": "[encoded data removed]",
      "text/plain": [
       "<Figure size 432x288 with 1 Axes>"
      ]
     },
     "metadata": {},
     "output_type": "display_data"
    }
   ],
   "source": [
    "plt.plot(x_reshape, y_nonlinear,'ks',label='data')\n",
    "plt.plot(x_reshape,poly.predict(x_reshape),'r-',label='fit')\n",
    "plt.grid()\n",
    "plt.legend()"
   ]
  },
  {
   "cell_type": "markdown",
   "metadata": {},
   "source": [
    "### Questions/Taks:\n",
    "* Compute again the summary statistics (sse, sst, r^2 and adj_r^2)\n",
    "* comment on the obtained results. What is your conclusion here?"
   ]
  },
  {
   "cell_type": "code",
   "execution_count": 13,
   "metadata": {},
   "outputs": [
    {
     "name": "stdout",
     "output_type": "stream",
     "text": [
      "sse:     80.6927\n",
      "sst:     87205080.0323\n",
      "r^2:     1.0000\n",
      "adj_r^2: 1.0000\n"
     ]
    }
   ],
   "source": [
    "this_stat = Stats(x_reshape, y_nonlinear, poly)\n",
    "pretty_print_stats(this_stat)"
   ]
  },
  {
   "cell_type": "markdown",
   "metadata": {},
   "source": [
    "## 2. Outliers"
   ]
  },
  {
   "cell_type": "code",
   "execution_count": 14,
   "metadata": {},
   "outputs": [],
   "source": [
    "# We start by generating the data, including an outlier.\n",
    "np.random.seed(20)\n",
    "x = np.arange(20)\n",
    "y = [x*2 + np.random.rand(1)*4 for x in range(20)]\n",
    "y_outlier = y.copy()\n",
    "y_outlier[8] = np.array([38])  ## insert outlier\n",
    "\n",
    "x_reshape = x.reshape(-1,1)"
   ]
  },
  {
   "cell_type": "code",
   "execution_count": 15,
   "metadata": {},
   "outputs": [
    {
     "data": {
      "image/png": "[encoded data removed]",
      "text/plain": [
       "<Figure size 432x288 with 2 Axes>"
      ]
     },
     "metadata": {},
     "output_type": "display_data"
    }
   ],
   "source": [
    "plt.subplot(121)\n",
    "plt.plot(x,y,'ks')\n",
    "\n",
    "plt.subplot(122)\n",
    "plt.plot(x,y_outlier,'ks')\n",
    "plt.subplots_adjust(top=0.8, bottom=0.08, left=0.0, right=1.3, hspace=5, wspace=0.5)"
   ]
  },
  {
   "cell_type": "markdown",
   "metadata": {},
   "source": [
    "### Data and  regression lines"
   ]
  },
  {
   "cell_type": "code",
   "execution_count": 16,
   "metadata": {},
   "outputs": [],
   "source": [
    "from sklearn.linear_model import LinearRegression\n",
    "linear = LinearRegression()\n",
    "linear.fit(x_reshape, y)# sklearn expects 2D array so have to reshape x\n",
    "x_reshape = x.reshape(-1,1)\n",
    "\n",
    "# fit model w/standard data\n",
    "linear_nooutlier = LinearRegression()\n",
    "linear_nooutlier.fit(x_reshape, y)\n",
    "\n",
    "# fit model w/outlier data\n",
    "linear_outlier = LinearRegression()\n",
    "linear_outlier.fit(x_reshape, y_outlier);"
   ]
  },
  {
   "cell_type": "code",
   "execution_count": 17,
   "metadata": {},
   "outputs": [
    {
     "data": {
      "image/png": "[encoded data removed]",
      "text/plain": [
       "<Figure size 432x288 with 2 Axes>"
      ]
     },
     "metadata": {},
     "output_type": "display_data"
    }
   ],
   "source": [
    "plt.subplot(121)\n",
    "plt.plot(x,y_outlier,'ks', label='data')\n",
    "plt.plot(x_reshape, linear_outlier.predict(x_reshape),'r--',lw=2, label='line (outlier)')\n",
    "plt.plot(x_reshape, linear_nooutlier.predict(x_reshape),'b--',lw=2, label='line (no outlier)')\n",
    "plt.grid(1)\n",
    "plt.legend();\n",
    "\n",
    "plt.subplot(122)\n",
    "plt.plot(linear_outlier.predict(x_reshape), y_outlier-linear_outlier.predict(x_reshape), 'ks')\n",
    "plt.axhline(y=0, color='k')\n",
    "\n",
    "plt.subplots_adjust(top=0.8, bottom=0.08, left=0.0, right=1.3, hspace=5, wspace=0.5)"
   ]
  },
  {
   "cell_type": "markdown",
   "metadata": {},
   "source": [
    "### Questions/Taks:\n",
    "* How much does the regression line change when we add an outlier?\n",
    "* Produce summary statiscits (sse, sst, r^2, adj_r^2) \n",
    "    * withiout an outlier\n",
    "    * with an outlier\n",
    "* How much is the outlier reflected in the summary statistics? "
   ]
  },
  {
   "cell_type": "code",
   "execution_count": 19,
   "metadata": {},
   "outputs": [
    {
     "name": "stdout",
     "output_type": "stream",
     "text": [
      "sse:     24.3975\n",
      "sst:     2502.9934\n",
      "r^2:     0.9903\n",
      "adj_r^2: 0.9897\n"
     ]
    }
   ],
   "source": [
    "# no outlier stats\n",
    "s = Stats(x_reshape, y, linear_nooutlier)\n",
    "pretty_print_stats(s)"
   ]
  },
  {
   "cell_type": "code",
   "execution_count": 20,
   "metadata": {},
   "outputs": [
    {
     "name": "stdout",
     "output_type": "stream",
     "text": [
      "sse:     396.3144\n",
      "sst:     2764.0028\n",
      "r^2:     0.8566\n",
      "adj_r^2: 0.8487\n"
     ]
    }
   ],
   "source": [
    "# with outlier stats\n",
    "s = Stats(x_reshape, y_outlier, linear_outlier)\n",
    "pretty_print_stats(s)"
   ]
  },
  {
   "cell_type": "markdown",
   "metadata": {},
   "source": [
    "### Possible Solutions to Nonlinear Data\n",
    "* Investigate the outlier(s). Do NOT assume these cases are just bad data. Some outliers are true examples while others are data entry errors. You need to know which it is before proceeding.\n",
    "* Consider imputing or removing outliers."
   ]
  },
  {
   "cell_type": "markdown",
   "metadata": {},
   "source": [
    "## 3. Constant variance\n",
    "\n",
    "The assumption is that the means the errors exhibit constant variance. This is a key assumption of linear regression. However, often errors show some sort of growth, e.g. a fan-like shape in your residual plot. We consider this now. "
   ]
  },
  {
   "cell_type": "code",
   "execution_count": 21,
   "metadata": {},
   "outputs": [],
   "source": [
    "# Generate the data\n",
    "np.random.seed(20)\n",
    "x = np.arange(20)\n",
    "y_const = [x*2 + np.random.rand(1) for x in range(20)]  ## constant variance\n",
    "y_noconst = [x*2 + np.random.rand(1)*2*x for x in range(20)]  ## non-constant variance\n",
    "x_reshape = x.reshape(-1,1)"
   ]
  },
  {
   "cell_type": "code",
   "execution_count": 22,
   "metadata": {},
   "outputs": [],
   "source": [
    "# Compute the regression lines\n",
    "linear_const = LinearRegression()\n",
    "linear_const.fit(x_reshape, y_const)\n",
    "\n",
    "linear_noconst = LinearRegression()\n",
    "linear_noconst.fit(x_reshape, y_noconst);"
   ]
  },
  {
   "cell_type": "code",
   "execution_count": 23,
   "metadata": {},
   "outputs": [
    {
     "data": {
      "image/png": "[encoded data removed]",
      "text/plain": [
       "<Figure size 432x288 with 2 Axes>"
      ]
     },
     "metadata": {},
     "output_type": "display_data"
    }
   ],
   "source": [
    "# Plot the two datasets (x_reshape,y_cost) and (x_reshape,y_nonconst) + lines\n",
    "plt.subplot(121)\n",
    "plt.plot(x_reshape,y_const,'ks', label='data')\n",
    "plt.plot(x_reshape, linear_const.predict(x_reshape),'r-');\n",
    "\n",
    "plt.subplot(122)\n",
    "plt.plot(x_reshape,y_noconst,'ks', label='data')\n",
    "plt.plot(x_reshape, linear_noconst.predict(x_reshape),'r-');\n",
    "\n",
    "plt.subplots_adjust(top=0.8, bottom=0.08, left=0.0, right=1.3, hspace=5, wspace=0.5)"
   ]
  },
  {
   "cell_type": "code",
   "execution_count": 36,
   "metadata": {},
   "outputs": [
    {
     "data": {
      "image/png": "[encoded data removed]",
      "text/plain": [
       "<Figure size 432x288 with 2 Axes>"
      ]
     },
     "metadata": {},
     "output_type": "display_data"
    }
   ],
   "source": [
    "# Plot the residuals\n",
    "plt.subplot(121)\n",
    "plt.plot(linear_const.predict(x_reshape), y_const-linear_const.predict(x_reshape), 'bs')\n",
    "plt.axhline(y=0, color='k')\n",
    "plt.ylim(-10,10)\n",
    "\n",
    "plt.subplot(122)\n",
    "plt.plot(linear_noconst.predict(x_reshape), y_noconst-linear_noconst.predict(x_reshape), 'ks')\n",
    "plt.axhline(y=0, color='k')\n",
    "plt.ylim(-10,10)\n",
    "\n",
    "plt.subplots_adjust(top=0.8, bottom=0.08, left=0.0, right=1.3, hspace=5, wspace=0.5)"
   ]
  },
  {
   "cell_type": "markdown",
   "metadata": {},
   "source": [
    "### Possible Solutions to Nonlinear Data\n",
    "* Consider log transforming the dependent variable"
   ]
  },
  {
   "cell_type": "code",
   "execution_count": 41,
   "metadata": {},
   "outputs": [],
   "source": [
    "y_noconst_log  = np.log10(np.array(y_noconst) + 1e1)\n",
    "x_reshape_log  = np.log10(np.array(x_reshape) + 1e1)\n",
    "\n",
    "linear_noconst_log = LinearRegression()\n",
    "linear_noconst_log.fit(x_reshape, y_noconst_log)\n",
    "\n",
    "linear_noconst_log_log = LinearRegression()\n",
    "linear_noconst_log_log.fit(x_reshape_log, y_noconst_log);"
   ]
  },
  {
   "cell_type": "code",
   "execution_count": 47,
   "metadata": {},
   "outputs": [
    {
     "data": {
      "image/png": "[encoded data removed]",
      "text/plain": [
       "<Figure size 432x288 with 2 Axes>"
      ]
     },
     "metadata": {},
     "output_type": "display_data"
    }
   ],
   "source": [
    "# Plot the residuals\n",
    "plt.subplot(121)\n",
    "plt.plot(linear_noconst_log.predict(x_reshape), y_noconst_log-linear_noconst_log.predict(x_reshape), 'bs')\n",
    "plt.axhline(y=0, color='k')\n",
    "\n",
    "plt.subplot(122)\n",
    "plt.plot(linear_noconst_log_log.predict(x_reshape_log), y_noconst_log-linear_noconst_log_log.predict(x_reshape_log), 'bs')\n",
    "plt.axhline(y=0, color='k')\n",
    "\n",
    "plt.subplots_adjust(top=0.8, bottom=0.08, left=0.0, right=1.3, hspace=5, wspace=0.5)"
   ]
  }
 ],
 "metadata": {
  "kernelspec": {
   "display_name": "Python 3",
   "language": "python",
   "name": "python3"
  },
  "language_info": {
   "codemirror_mode": {
    "name": "ipython",
    "version": 3
   },
   "file_extension": ".py",
   "mimetype": "text/x-python",
   "name": "python",
   "nbconvert_exporter": "python",
   "pygments_lexer": "ipython3",
   "version": "3.6.5"
  }
 },
 "nbformat": 4,
 "nbformat_minor": 2
}
