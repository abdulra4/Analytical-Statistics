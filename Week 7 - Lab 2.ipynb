{
 "cells": [
  {
   "cell_type": "code",
   "execution_count": null,
   "metadata": {},
   "outputs": [],
   "source": [
    "import pandas as pd\n",
    "import matplotlib.pyplot as plt\n",
    "import numpy as np\n",
    "import statsmodels.api as sm\n",
    "import statsmodels.formula.api as smf"
   ]
  },
  {
   "cell_type": "code",
   "execution_count": null,
   "metadata": {},
   "outputs": [],
   "source": [
    "data = pd.read_csv('daily_tw_totals_2017.csv')\n",
    "parties = [\"Conservative and Unionist Party\",\"Labour Party\",\"Liberal Democrats\",\"Green Party\",\n",
    "           \"UK Independence Party (UKIP)\",\"Scottish National Party (SNP)\"]\n",
    "data = data[data['Party'].isin(parties)]#subset to only the major parties\n",
    "data['Gender'] = data['Gender'].str.lower()#do a bit of data cleaning"
   ]
  },
  {
   "cell_type": "markdown",
   "metadata": {},
   "source": [
    "# Lab 2\n",
    "\n",
    "In this lab we are going to execute a difference-in-differences study to test the same question we saw in Lab 1 - does being mentioned make you more likely to tweet?\n",
    "\n",
    "We'll make use of June 2nd as a treatment date (though feel free to change that if you like). So this is our t2. t1 will be June 1st, t3 will be June 3rd. Our treated group will be all those who were mentioned at least once on t2. Our control is (obviously) those who weren't mentioned. Our outcome variable is the amount of tweets sent. "
   ]
  },
  {
   "cell_type": "code",
   "execution_count": null,
   "metadata": {},
   "outputs": [],
   "source": [
    "#this long chunk of code transforms our daily tweet data into the data format we need. \n",
    "#I will talk through it after the lab \n",
    "\n",
    "data_jun2 = data[data['day']=='2017-06-02']\n",
    "data_jun2['mentioned'] = data_jun2['mentions'] > 0\n",
    "data_jun2 = data_jun2[['mentioned', 'tw_screenname']]\n",
    "\n",
    "before = data[data['day']=='2017-06-01']\n",
    "before['time'] = '1.before'\n",
    "before = pd.merge(before, data_jun2, how='right', on='tw_screenname')\n",
    "before = before.fillna(value=0)\n",
    "before.loc[before['time']==0,'time'] = '1.before'\n",
    "before = before[['tw_screenname', 'candidate_tweets', 'time', 'mentioned']]\n",
    "\n",
    "after = data[data['day']=='2017-06-03']\n",
    "after['time'] = '2.after'\n",
    "after = pd.merge(after, data_jun2, how='right', on='tw_screenname')\n",
    "after = after.fillna(value=0)\n",
    "after.loc[after['time']==0,'time'] = '2.after'\n",
    "after = after[['tw_screenname', 'candidate_tweets', 'time', 'mentioned']]\n",
    "\n",
    "total = pd.concat([before, after])"
   ]
  },
  {
   "cell_type": "markdown",
   "metadata": {},
   "source": [
    "Now that we have prepared the data in the right format, we can run our regression. You should know how to execute an OLS regression in Python now! Recall that the equation we want OLS to find values for is:\n",
    "\n",
    "$outcome = intercept + time + treatment + time*treatment$\n",
    "\n",
    "Run the regression and interpret the findings. "
   ]
  },
  {
   "cell_type": "code",
   "execution_count": null,
   "metadata": {},
   "outputs": [],
   "source": []
  },
  {
   "cell_type": "markdown",
   "metadata": {},
   "source": [
    "To double check the regression worked, calculate the differences and the difference-in-differences manually. One approach to this would be to use the `groupby` and `diff` commands from Lab 1. Note that you can specify to `diff` how many rows back to go with your differencing. So to go two rows back we would use `.diff(2)`"
   ]
  },
  {
   "cell_type": "code",
   "execution_count": null,
   "metadata": {},
   "outputs": [],
   "source": []
  },
  {
   "cell_type": "markdown",
   "metadata": {},
   "source": [
    "Produce a graphic (either a line plot or a bar plot) which visualises the before and after values in the treatment and control groups. Hint: pandas is happier plotting 'wide' data, i.e. where each column contains a distinct data series. To get this format from the data produced by groupby you can make use of the `.unstack()` method."
   ]
  },
  {
   "cell_type": "code",
   "execution_count": null,
   "metadata": {},
   "outputs": [],
   "source": []
  },
  {
   "cell_type": "markdown",
   "metadata": {},
   "source": [
    "Do a little investigation of the data. How many people were mentioned on June 1st? Break them down by gender and political party. Check week 1 lab 2 if you need some of the commands. Discuss potential causes of the observed differences with a neighbour. "
   ]
  },
  {
   "cell_type": "code",
   "execution_count": null,
   "metadata": {},
   "outputs": [],
   "source": []
  },
  {
   "cell_type": "markdown",
   "metadata": {},
   "source": [
    "Try the same DID regression on another date. Do you get the same results?"
   ]
  },
  {
   "cell_type": "code",
   "execution_count": null,
   "metadata": {},
   "outputs": [],
   "source": []
  },
  {
   "cell_type": "markdown",
   "metadata": {},
   "source": [
    "(Optional) Write a loop which performs the regression on all possible dates, and adds up the number of positive, negative and statistically insignficant coefficients. When we look at all possible regressions, what conclusion do we come to?\n",
    "\n",
    "NB: a more advanced version of this would be to then combine all the studies in a meta analysis. This isn't covered on this course but would be something to think about if you are using this type of approach for your thesis. "
   ]
  },
  {
   "cell_type": "code",
   "execution_count": null,
   "metadata": {},
   "outputs": [],
   "source": []
  }
 ],
 "metadata": {
  "kernelspec": {
   "display_name": "Python 3",
   "language": "python",
   "name": "python3"
  },
  "language_info": {
   "codemirror_mode": {
    "name": "ipython",
    "version": 3
   },
   "file_extension": ".py",
   "mimetype": "text/x-python",
   "name": "python",
   "nbconvert_exporter": "python",
   "pygments_lexer": "ipython3",
   "version": "3.6.6"
  }
 },
 "nbformat": 4,
 "nbformat_minor": 2
}
