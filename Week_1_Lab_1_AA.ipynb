{
 "cells": [
  {
   "cell_type": "markdown",
   "metadata": {},
   "source": [
    "# Lab Session 1\n",
    "\n",
    "Note: \n",
    "\n",
    "text that looks like this is instructions to you\n",
    "\n",
    "```text that looks like this is code which you can copy and paste directly into a code cell```\n"
   ]
  },
  {
   "cell_type": "markdown",
   "metadata": {},
   "source": [
    "Welcome to the lab session! Each lab takes the form of a Jupyter notebook. When you open the lab up you will typically see a mix of instructions (like this) and some pre-existing code cells to get you started. Make sure you run all the code cells which already exist, and then you can go through the worksheet, writing solutions into blank code cells as you go. A lot of the time in these early sessions you'll simply be copy/pasting code and pressing run...but don't worry, it will get more complicated :-)\n",
    "\n",
    "In this lab, there are two code cells already in the file, which we have just discussed in class. The first imports a few new libraries into Python, and the second downloads an example dataset from the statsmodels data library (really this is from the R data library!). If you don’t have an internet connection, I have also placed the file in the file distribution folder. You can import it by uncommenting the code at the bottom of the second cell. Ask an instructor if you aren’t sure how to do this \n",
    "\n",
    "There are lots of sample datasets available through statsmodels. These are good for testing things out quickly (though I wouldn’t necessarily recommend them for your assignment). You can find out more about them here: https://www.statsmodels.org/dev/datasets/index.html\n"
   ]
  },
  {
   "cell_type": "code",
   "execution_count": 1,
   "metadata": {},
   "outputs": [],
   "source": [
    "%matplotlib inline\n",
    "import statsmodels as sm\n",
    "import pandas as pd"
   ]
  },
  {
   "cell_type": "code",
   "execution_count": 2,
   "metadata": {},
   "outputs": [],
   "source": [
    "#dataset on extra marital affairs. see: https://www.statsmodels.org/dev/datasets/generated/fair.html\n",
    "data = sm.datasets.get_rdataset('Fair', 'Ecdat')\n",
    "#nb: this will only work if you have an internet connection!\n",
    "#if it doesn't, uncomment and run the following code (you will have to comment out the line above)\n",
    "import pickle\n",
    "data = pickle.load(open('Fair.p', 'rb'))\n",
    "df = pd.DataFrame(data.data)"
   ]
  },
  {
   "cell_type": "markdown",
   "metadata": {},
   "source": [
    "Have a look at the documentation for the dataset, which can be found here https://www.statsmodels.org/dev/datasets/generated/fair.html\n",
    "\n",
    "The documentation tells you the dataset concerns the number of extra-marital affairs individuals have had. It was collected in the US in the 1970s. The documentation also tells you (amongst other things) that there should be 6,366 observations in the dataset, which in this case are individuals, and 9 variables, which are measured characteritics of these individuals."
   ]
  },
  {
   "cell_type": "markdown",
   "metadata": {},
   "source": [
    "Let’s check we actually got what we were expecting. We can describe the ‘shape’ of the dataset using: `df.shape`. Copy and paste `df.shape` into the code cell below and hit run. You should get a ‘tuple’ (a pair of values) as a result. This shows you how many observations and variables there are in the dataset. \n"
   ]
  },
  {
   "cell_type": "code",
   "execution_count": 3,
   "metadata": {},
   "outputs": [
    {
     "data": {
      "text/plain": [
       "(601, 9)"
      ]
     },
     "execution_count": 3,
     "metadata": {},
     "output_type": "execute_result"
    }
   ],
   "source": [
    "df.shape"
   ]
  },
  {
   "cell_type": "markdown",
   "metadata": {},
   "source": [
    "In fact, we got a lot less than we were expecting! The dataset is clearly only a subset of the full data. Now let’s have a look at some of the data. `df.head()` tells pandas to print out the top 5 rows of the dataframe. You should see a table with 5 rows and 9 columns (plus an index column). This is a useful way of getting a quick sanity check that the dataframe contains what you are expecting"
   ]
  },
  {
   "cell_type": "code",
   "execution_count": 4,
   "metadata": {},
   "outputs": [
    {
     "data": {
      "text/html": [
       "<div>\n",
       "<style scoped>\n",
       "    .dataframe tbody tr th:only-of-type {\n",
       "        vertical-align: middle;\n",
       "    }\n",
       "\n",
       "    .dataframe tbody tr th {\n",
       "        vertical-align: top;\n",
       "    }\n",
       "\n",
       "    .dataframe thead th {\n",
       "        text-align: right;\n",
       "    }\n",
       "</style>\n",
       "<table border=\"1\" class=\"dataframe\">\n",
       "  <thead>\n",
       "    <tr style=\"text-align: right;\">\n",
       "      <th></th>\n",
       "      <th>sex</th>\n",
       "      <th>age</th>\n",
       "      <th>ym</th>\n",
       "      <th>child</th>\n",
       "      <th>religious</th>\n",
       "      <th>education</th>\n",
       "      <th>occupation</th>\n",
       "      <th>rate</th>\n",
       "      <th>nbaffairs</th>\n",
       "    </tr>\n",
       "  </thead>\n",
       "  <tbody>\n",
       "    <tr>\n",
       "      <th>0</th>\n",
       "      <td>male</td>\n",
       "      <td>37.0</td>\n",
       "      <td>10.00</td>\n",
       "      <td>no</td>\n",
       "      <td>3</td>\n",
       "      <td>18</td>\n",
       "      <td>7</td>\n",
       "      <td>4</td>\n",
       "      <td>0</td>\n",
       "    </tr>\n",
       "    <tr>\n",
       "      <th>1</th>\n",
       "      <td>female</td>\n",
       "      <td>27.0</td>\n",
       "      <td>4.00</td>\n",
       "      <td>no</td>\n",
       "      <td>4</td>\n",
       "      <td>14</td>\n",
       "      <td>6</td>\n",
       "      <td>4</td>\n",
       "      <td>0</td>\n",
       "    </tr>\n",
       "    <tr>\n",
       "      <th>2</th>\n",
       "      <td>female</td>\n",
       "      <td>32.0</td>\n",
       "      <td>15.00</td>\n",
       "      <td>yes</td>\n",
       "      <td>1</td>\n",
       "      <td>12</td>\n",
       "      <td>1</td>\n",
       "      <td>4</td>\n",
       "      <td>0</td>\n",
       "    </tr>\n",
       "    <tr>\n",
       "      <th>3</th>\n",
       "      <td>male</td>\n",
       "      <td>57.0</td>\n",
       "      <td>15.00</td>\n",
       "      <td>yes</td>\n",
       "      <td>5</td>\n",
       "      <td>18</td>\n",
       "      <td>6</td>\n",
       "      <td>5</td>\n",
       "      <td>0</td>\n",
       "    </tr>\n",
       "    <tr>\n",
       "      <th>4</th>\n",
       "      <td>male</td>\n",
       "      <td>22.0</td>\n",
       "      <td>0.75</td>\n",
       "      <td>no</td>\n",
       "      <td>2</td>\n",
       "      <td>17</td>\n",
       "      <td>6</td>\n",
       "      <td>3</td>\n",
       "      <td>0</td>\n",
       "    </tr>\n",
       "  </tbody>\n",
       "</table>\n",
       "</div>"
      ],
      "text/plain": [
       "      sex   age     ym child  religious  education  occupation  rate  \\\n",
       "0    male  37.0  10.00    no          3         18           7     4   \n",
       "1  female  27.0   4.00    no          4         14           6     4   \n",
       "2  female  32.0  15.00   yes          1         12           1     4   \n",
       "3    male  57.0  15.00   yes          5         18           6     5   \n",
       "4    male  22.0   0.75    no          2         17           6     3   \n",
       "\n",
       "   nbaffairs  \n",
       "0          0  \n",
       "1          0  \n",
       "2          0  \n",
       "3          0  \n",
       "4          0  "
      ]
     },
     "execution_count": 4,
     "metadata": {},
     "output_type": "execute_result"
    }
   ],
   "source": [
    "df.head()"
   ]
  },
  {
   "cell_type": "markdown",
   "metadata": {},
   "source": [
    "One of the first things we want to do in any analysis is check summary statistics of our variables. Let’s start with the age variable:\n",
    "- `df['age'].mean()`"
   ]
  },
  {
   "cell_type": "code",
   "execution_count": 5,
   "metadata": {},
   "outputs": [
    {
     "data": {
      "text/plain": [
       "32.48752079866888"
      ]
     },
     "execution_count": 5,
     "metadata": {},
     "output_type": "execute_result"
    }
   ],
   "source": [
    "df['age'].mean()"
   ]
  },
  {
   "cell_type": "markdown",
   "metadata": {},
   "source": [
    "We can see the average age is just over 32. Let’s also get the standard deviation, min and max values\n",
    "- `df['age'].std()`\n",
    "- `df['age'].min()`\n",
    "- `df['age'].max()`\n",
    "\n",
    "Note that if you put all these commands in the same code cell you will need to wrap them in `print()` statements to get all the output on screen: something like `print(df['age'].std())`"
   ]
  },
  {
   "cell_type": "code",
   "execution_count": 6,
   "metadata": {},
   "outputs": [
    {
     "name": "stdout",
     "output_type": "stream",
     "text": [
      "9.28876170487667\n",
      "17.5\n",
      "57.0\n"
     ]
    }
   ],
   "source": [
    "print (df['age'].std())\n",
    "print (df['age'].min())\n",
    "print (df['age'].max())"
   ]
  },
  {
   "cell_type": "markdown",
   "metadata": {},
   "source": [
    "What about how the variable is distributed? Let’s produce a histogram: `df.hist('age')`\n",
    "\n",
    "We can see there are more people in the younger end of the histogram than the older end. This might indicate a selection bias in the way people were chosen for the survey (to really know whether this is the case, we would also need to know the distribution of marriage ages for all US couples in the 1970s)\n"
   ]
  },
  {
   "cell_type": "code",
   "execution_count": 7,
   "metadata": {},
   "outputs": [
    {
     "data": {
      "text/plain": [
       "array([[<matplotlib.axes._subplots.AxesSubplot object at 0x81c6322b0>]],\n",
       "      dtype=object)"
      ]
     },
     "execution_count": 7,
     "metadata": {},
     "output_type": "execute_result"
    },
    {
     "data": {
      "image/png": "[encoded data removed]",
      "text/plain": [
       "<Figure size 432x288 with 1 Axes>"
      ]
     },
     "metadata": {
      "needs_background": "light"
     },
     "output_type": "display_data"
    }
   ],
   "source": [
    "df.hist('age')"
   ]
  },
  {
   "cell_type": "markdown",
   "metadata": {},
   "source": [
    "At the beginning of any analysis we should perform this descriptive procedure for all variables of interest. Pandas makes it easy to collect all the statistics for all variables in a dataset, with: `df.describe()`"
   ]
  },
  {
   "cell_type": "code",
   "execution_count": 8,
   "metadata": {},
   "outputs": [
    {
     "data": {
      "text/html": [
       "<div>\n",
       "<style scoped>\n",
       "    .dataframe tbody tr th:only-of-type {\n",
       "        vertical-align: middle;\n",
       "    }\n",
       "\n",
       "    .dataframe tbody tr th {\n",
       "        vertical-align: top;\n",
       "    }\n",
       "\n",
       "    .dataframe thead th {\n",
       "        text-align: right;\n",
       "    }\n",
       "</style>\n",
       "<table border=\"1\" class=\"dataframe\">\n",
       "  <thead>\n",
       "    <tr style=\"text-align: right;\">\n",
       "      <th></th>\n",
       "      <th>age</th>\n",
       "      <th>ym</th>\n",
       "      <th>religious</th>\n",
       "      <th>education</th>\n",
       "      <th>occupation</th>\n",
       "      <th>rate</th>\n",
       "      <th>nbaffairs</th>\n",
       "    </tr>\n",
       "  </thead>\n",
       "  <tbody>\n",
       "    <tr>\n",
       "      <th>count</th>\n",
       "      <td>601.000000</td>\n",
       "      <td>601.000000</td>\n",
       "      <td>601.000000</td>\n",
       "      <td>601.000000</td>\n",
       "      <td>601.000000</td>\n",
       "      <td>601.000000</td>\n",
       "      <td>601.000000</td>\n",
       "    </tr>\n",
       "    <tr>\n",
       "      <th>mean</th>\n",
       "      <td>32.487521</td>\n",
       "      <td>8.177696</td>\n",
       "      <td>3.116473</td>\n",
       "      <td>16.166389</td>\n",
       "      <td>4.194676</td>\n",
       "      <td>3.931780</td>\n",
       "      <td>1.455907</td>\n",
       "    </tr>\n",
       "    <tr>\n",
       "      <th>std</th>\n",
       "      <td>9.288762</td>\n",
       "      <td>5.571303</td>\n",
       "      <td>1.167509</td>\n",
       "      <td>2.402555</td>\n",
       "      <td>1.819443</td>\n",
       "      <td>1.103179</td>\n",
       "      <td>3.298758</td>\n",
       "    </tr>\n",
       "    <tr>\n",
       "      <th>min</th>\n",
       "      <td>17.500000</td>\n",
       "      <td>0.125000</td>\n",
       "      <td>1.000000</td>\n",
       "      <td>9.000000</td>\n",
       "      <td>1.000000</td>\n",
       "      <td>1.000000</td>\n",
       "      <td>0.000000</td>\n",
       "    </tr>\n",
       "    <tr>\n",
       "      <th>25%</th>\n",
       "      <td>27.000000</td>\n",
       "      <td>4.000000</td>\n",
       "      <td>2.000000</td>\n",
       "      <td>14.000000</td>\n",
       "      <td>3.000000</td>\n",
       "      <td>3.000000</td>\n",
       "      <td>0.000000</td>\n",
       "    </tr>\n",
       "    <tr>\n",
       "      <th>50%</th>\n",
       "      <td>32.000000</td>\n",
       "      <td>7.000000</td>\n",
       "      <td>3.000000</td>\n",
       "      <td>16.000000</td>\n",
       "      <td>5.000000</td>\n",
       "      <td>4.000000</td>\n",
       "      <td>0.000000</td>\n",
       "    </tr>\n",
       "    <tr>\n",
       "      <th>75%</th>\n",
       "      <td>37.000000</td>\n",
       "      <td>15.000000</td>\n",
       "      <td>4.000000</td>\n",
       "      <td>18.000000</td>\n",
       "      <td>6.000000</td>\n",
       "      <td>5.000000</td>\n",
       "      <td>0.000000</td>\n",
       "    </tr>\n",
       "    <tr>\n",
       "      <th>max</th>\n",
       "      <td>57.000000</td>\n",
       "      <td>15.000000</td>\n",
       "      <td>5.000000</td>\n",
       "      <td>20.000000</td>\n",
       "      <td>7.000000</td>\n",
       "      <td>5.000000</td>\n",
       "      <td>12.000000</td>\n",
       "    </tr>\n",
       "  </tbody>\n",
       "</table>\n",
       "</div>"
      ],
      "text/plain": [
       "              age          ym   religious   education  occupation        rate  \\\n",
       "count  601.000000  601.000000  601.000000  601.000000  601.000000  601.000000   \n",
       "mean    32.487521    8.177696    3.116473   16.166389    4.194676    3.931780   \n",
       "std      9.288762    5.571303    1.167509    2.402555    1.819443    1.103179   \n",
       "min     17.500000    0.125000    1.000000    9.000000    1.000000    1.000000   \n",
       "25%     27.000000    4.000000    2.000000   14.000000    3.000000    3.000000   \n",
       "50%     32.000000    7.000000    3.000000   16.000000    5.000000    4.000000   \n",
       "75%     37.000000   15.000000    4.000000   18.000000    6.000000    5.000000   \n",
       "max     57.000000   15.000000    5.000000   20.000000    7.000000    5.000000   \n",
       "\n",
       "        nbaffairs  \n",
       "count  601.000000  \n",
       "mean     1.455907  \n",
       "std      3.298758  \n",
       "min      0.000000  \n",
       "25%      0.000000  \n",
       "50%      0.000000  \n",
       "75%      0.000000  \n",
       "max     12.000000  "
      ]
     },
     "execution_count": 8,
     "metadata": {},
     "output_type": "execute_result"
    }
   ],
   "source": [
    "df.describe()"
   ]
  },
  {
   "cell_type": "markdown",
   "metadata": {},
   "source": [
    "We can also produce histograms for all data using `df.hist()`\n",
    "- If the image is too small, you could adjust it with something like `df.hist(figsize=(10,10))`\n",
    "- Nb. A lot of text is produced before the histograms. You can suppress this type of output using a semi-colon, i.e by using `df.hist(figsize=(10,10));`\n",
    "\n",
    "Have a look through all the summary statistics and graphics for all the variables. Are there any other distributions which look strange to you? Make a note and discuss with a neighbor\n",
    "\n",
    "The summary statistics and graphics only contain seven variables. Which ones are missing? Why?"
   ]
  },
  {
   "cell_type": "code",
   "execution_count": 10,
   "metadata": {},
   "outputs": [
    {
     "data": {
      "text/html": [
       "<div>\n",
       "<style scoped>\n",
       "    .dataframe tbody tr th:only-of-type {\n",
       "        vertical-align: middle;\n",
       "    }\n",
       "\n",
       "    .dataframe tbody tr th {\n",
       "        vertical-align: top;\n",
       "    }\n",
       "\n",
       "    .dataframe thead th {\n",
       "        text-align: right;\n",
       "    }\n",
       "</style>\n",
       "<table border=\"1\" class=\"dataframe\">\n",
       "  <thead>\n",
       "    <tr style=\"text-align: right;\">\n",
       "      <th></th>\n",
       "      <th>sex</th>\n",
       "      <th>age</th>\n",
       "      <th>ym</th>\n",
       "      <th>child</th>\n",
       "      <th>religious</th>\n",
       "      <th>education</th>\n",
       "      <th>occupation</th>\n",
       "      <th>rate</th>\n",
       "      <th>nbaffairs</th>\n",
       "    </tr>\n",
       "  </thead>\n",
       "  <tbody>\n",
       "    <tr>\n",
       "      <th>count</th>\n",
       "      <td>601</td>\n",
       "      <td>601.000000</td>\n",
       "      <td>601.000000</td>\n",
       "      <td>601</td>\n",
       "      <td>601.000000</td>\n",
       "      <td>601.000000</td>\n",
       "      <td>601.000000</td>\n",
       "      <td>601.000000</td>\n",
       "      <td>601.000000</td>\n",
       "    </tr>\n",
       "    <tr>\n",
       "      <th>unique</th>\n",
       "      <td>2</td>\n",
       "      <td>NaN</td>\n",
       "      <td>NaN</td>\n",
       "      <td>2</td>\n",
       "      <td>NaN</td>\n",
       "      <td>NaN</td>\n",
       "      <td>NaN</td>\n",
       "      <td>NaN</td>\n",
       "      <td>NaN</td>\n",
       "    </tr>\n",
       "    <tr>\n",
       "      <th>top</th>\n",
       "      <td>female</td>\n",
       "      <td>NaN</td>\n",
       "      <td>NaN</td>\n",
       "      <td>yes</td>\n",
       "      <td>NaN</td>\n",
       "      <td>NaN</td>\n",
       "      <td>NaN</td>\n",
       "      <td>NaN</td>\n",
       "      <td>NaN</td>\n",
       "    </tr>\n",
       "    <tr>\n",
       "      <th>freq</th>\n",
       "      <td>315</td>\n",
       "      <td>NaN</td>\n",
       "      <td>NaN</td>\n",
       "      <td>430</td>\n",
       "      <td>NaN</td>\n",
       "      <td>NaN</td>\n",
       "      <td>NaN</td>\n",
       "      <td>NaN</td>\n",
       "      <td>NaN</td>\n",
       "    </tr>\n",
       "    <tr>\n",
       "      <th>mean</th>\n",
       "      <td>NaN</td>\n",
       "      <td>32.487521</td>\n",
       "      <td>8.177696</td>\n",
       "      <td>NaN</td>\n",
       "      <td>3.116473</td>\n",
       "      <td>16.166389</td>\n",
       "      <td>4.194676</td>\n",
       "      <td>3.931780</td>\n",
       "      <td>1.455907</td>\n",
       "    </tr>\n",
       "    <tr>\n",
       "      <th>std</th>\n",
       "      <td>NaN</td>\n",
       "      <td>9.288762</td>\n",
       "      <td>5.571303</td>\n",
       "      <td>NaN</td>\n",
       "      <td>1.167509</td>\n",
       "      <td>2.402555</td>\n",
       "      <td>1.819443</td>\n",
       "      <td>1.103179</td>\n",
       "      <td>3.298758</td>\n",
       "    </tr>\n",
       "    <tr>\n",
       "      <th>min</th>\n",
       "      <td>NaN</td>\n",
       "      <td>17.500000</td>\n",
       "      <td>0.125000</td>\n",
       "      <td>NaN</td>\n",
       "      <td>1.000000</td>\n",
       "      <td>9.000000</td>\n",
       "      <td>1.000000</td>\n",
       "      <td>1.000000</td>\n",
       "      <td>0.000000</td>\n",
       "    </tr>\n",
       "    <tr>\n",
       "      <th>25%</th>\n",
       "      <td>NaN</td>\n",
       "      <td>27.000000</td>\n",
       "      <td>4.000000</td>\n",
       "      <td>NaN</td>\n",
       "      <td>2.000000</td>\n",
       "      <td>14.000000</td>\n",
       "      <td>3.000000</td>\n",
       "      <td>3.000000</td>\n",
       "      <td>0.000000</td>\n",
       "    </tr>\n",
       "    <tr>\n",
       "      <th>50%</th>\n",
       "      <td>NaN</td>\n",
       "      <td>32.000000</td>\n",
       "      <td>7.000000</td>\n",
       "      <td>NaN</td>\n",
       "      <td>3.000000</td>\n",
       "      <td>16.000000</td>\n",
       "      <td>5.000000</td>\n",
       "      <td>4.000000</td>\n",
       "      <td>0.000000</td>\n",
       "    </tr>\n",
       "    <tr>\n",
       "      <th>75%</th>\n",
       "      <td>NaN</td>\n",
       "      <td>37.000000</td>\n",
       "      <td>15.000000</td>\n",
       "      <td>NaN</td>\n",
       "      <td>4.000000</td>\n",
       "      <td>18.000000</td>\n",
       "      <td>6.000000</td>\n",
       "      <td>5.000000</td>\n",
       "      <td>0.000000</td>\n",
       "    </tr>\n",
       "    <tr>\n",
       "      <th>max</th>\n",
       "      <td>NaN</td>\n",
       "      <td>57.000000</td>\n",
       "      <td>15.000000</td>\n",
       "      <td>NaN</td>\n",
       "      <td>5.000000</td>\n",
       "      <td>20.000000</td>\n",
       "      <td>7.000000</td>\n",
       "      <td>5.000000</td>\n",
       "      <td>12.000000</td>\n",
       "    </tr>\n",
       "  </tbody>\n",
       "</table>\n",
       "</div>"
      ],
      "text/plain": [
       "           sex         age          ym child   religious   education  \\\n",
       "count      601  601.000000  601.000000   601  601.000000  601.000000   \n",
       "unique       2         NaN         NaN     2         NaN         NaN   \n",
       "top     female         NaN         NaN   yes         NaN         NaN   \n",
       "freq       315         NaN         NaN   430         NaN         NaN   \n",
       "mean       NaN   32.487521    8.177696   NaN    3.116473   16.166389   \n",
       "std        NaN    9.288762    5.571303   NaN    1.167509    2.402555   \n",
       "min        NaN   17.500000    0.125000   NaN    1.000000    9.000000   \n",
       "25%        NaN   27.000000    4.000000   NaN    2.000000   14.000000   \n",
       "50%        NaN   32.000000    7.000000   NaN    3.000000   16.000000   \n",
       "75%        NaN   37.000000   15.000000   NaN    4.000000   18.000000   \n",
       "max        NaN   57.000000   15.000000   NaN    5.000000   20.000000   \n",
       "\n",
       "        occupation        rate   nbaffairs  \n",
       "count   601.000000  601.000000  601.000000  \n",
       "unique         NaN         NaN         NaN  \n",
       "top            NaN         NaN         NaN  \n",
       "freq           NaN         NaN         NaN  \n",
       "mean      4.194676    3.931780    1.455907  \n",
       "std       1.819443    1.103179    3.298758  \n",
       "min       1.000000    1.000000    0.000000  \n",
       "25%       3.000000    3.000000    0.000000  \n",
       "50%       5.000000    4.000000    0.000000  \n",
       "75%       6.000000    5.000000    0.000000  \n",
       "max       7.000000    5.000000   12.000000  "
      ]
     },
     "execution_count": 10,
     "metadata": {},
     "output_type": "execute_result"
    }
   ],
   "source": [
    "df.describe(include='all')"
   ]
  },
  {
   "cell_type": "markdown",
   "metadata": {},
   "source": [
    "Let’s now produce some summaries for the two missing variables.\n",
    "\n",
    "Let’s break down the gender variable first:\n",
    "`df['sex'].value_counts()` will give us the frequency of observations in each category\n",
    "\n",
    "We can also use `df['sex'].value_counts(normalize=True)` to get percentages "
   ]
  },
  {
   "cell_type": "code",
   "execution_count": 11,
   "metadata": {},
   "outputs": [
    {
     "data": {
      "text/plain": [
       "female    0.524126\n",
       "male      0.475874\n",
       "Name: sex, dtype: float64"
      ]
     },
     "execution_count": 11,
     "metadata": {},
     "output_type": "execute_result"
    }
   ],
   "source": [
    "df['sex'].value_counts(normalize=True)"
   ]
  },
  {
   "cell_type": "markdown",
   "metadata": {},
   "source": [
    "The result of `.value_counts()` is a table. We can also capture that information and make it into a plot, using something like the following: \n",
    "\n",
    "`gender_breakdown = df['sex'].value_counts()`\n",
    "\n",
    "`gender_breakdown.plot.bar()`\n",
    "\n",
    "nb. Unlike the histogram, the bar plot doesn’t really give us any new insight into the data that the frequencies already gave us. Nevertheless, they can still be useful as a means of presenting data. \n",
    "\n",
    "Perform the breakdown above for the children variable. How many of the individuals in the dataset have children?"
   ]
  },
  {
   "cell_type": "code",
   "execution_count": 12,
   "metadata": {},
   "outputs": [
    {
     "data": {
      "text/plain": [
       "<matplotlib.axes._subplots.AxesSubplot at 0x81c6dd550>"
      ]
     },
     "execution_count": 12,
     "metadata": {},
     "output_type": "execute_result"
    },
    {
     "data": {
      "image/png": "[encoded data removed]",
      "text/plain": [
       "<Figure size 432x288 with 1 Axes>"
      ]
     },
     "metadata": {
      "needs_background": "light"
     },
     "output_type": "display_data"
    }
   ],
   "source": [
    "gender_breakdown = df['sex'].value_counts()\n",
    "\n",
    "gender_breakdown.plot.bar()"
   ]
  },
  {
   "cell_type": "code",
   "execution_count": null,
   "metadata": {},
   "outputs": [],
   "source": []
  }
 ],
 "metadata": {
  "kernelspec": {
   "display_name": "Python 3",
   "language": "python",
   "name": "python3"
  },
  "language_info": {
   "codemirror_mode": {
    "name": "ipython",
    "version": 3
   },
   "file_extension": ".py",
   "mimetype": "text/x-python",
   "name": "python",
   "nbconvert_exporter": "python",
   "pygments_lexer": "ipython3",
   "version": "3.7.0"
  }
 },
 "nbformat": 4,
 "nbformat_minor": 2
}
