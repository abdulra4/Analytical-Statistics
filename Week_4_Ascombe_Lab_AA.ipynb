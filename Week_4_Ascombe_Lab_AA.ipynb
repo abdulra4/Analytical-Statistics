{
 "cells": [
  {
   "cell_type": "markdown",
   "metadata": {},
   "source": [
    "# Week 4: Ascombe datasets\n",
    "\n",
    "We are going to consider four datasets (x,y1), (x,y2), (x,y3) and (x4,y4).\n",
    "\n",
    "The task is to:\n",
    "    1. Plot each dataset and note the differences and similarities. \n",
    "    2. For each dataset compute the following basic statistics:\n",
    "        * mean of y\n",
    "        * std of y\n",
    "        * correlation coefficient between x, y\n",
    "    3. Plot the least-squares regression lines"
   ]
  },
  {
   "cell_type": "code",
   "execution_count": 2,
   "metadata": {},
   "outputs": [],
   "source": [
    "from __future__ import print_function\n",
    "import matplotlib.pyplot as plt\n",
    "import numpy as np"
   ]
  },
  {
   "cell_type": "code",
   "execution_count": 3,
   "metadata": {},
   "outputs": [],
   "source": [
    "x  = np.array([10, 8, 13, 9, 11, 14, 6, 4, 12, 7, 5])\n",
    "y1 = np.array([8.04, 6.95, 7.58, 8.81, 8.33, 9.96, 7.24, 4.26, 10.84, 4.82, 5.68])\n",
    "y2 = np.array([9.14, 8.14, 8.74, 8.77, 9.26, 8.10, 6.13, 3.10, 9.13, 7.26, 4.74])\n",
    "y3 = np.array([7.46, 6.77, 12.74, 7.11, 7.81, 8.84, 6.08, 5.39, 8.15, 6.42, 5.73])\n",
    "x4 = np.array([8, 8, 8, 8, 8, 8, 8, 19, 8, 8, 8])\n",
    "y4 = np.array([6.58, 5.76, 7.71, 8.84, 8.47, 7.04, 5.25, 12.50, 5.56, 7.91, 6.89])"
   ]
  },
  {
   "cell_type": "markdown",
   "metadata": {},
   "source": [
    "## 1. Plot the four datasets"
   ]
  },
  {
   "cell_type": "code",
   "execution_count": 7,
   "metadata": {},
   "outputs": [
    {
     "data": {
      "image/png": "[encoded data removed]",
      "text/plain": [
       "<Figure size 432x288 with 4 Axes>"
      ]
     },
     "metadata": {},
     "output_type": "display_data"
    }
   ],
   "source": [
    "# Plot\n",
    "plt.subplot(221)\n",
    "plt.plot(x,y1, 'ks')\n",
    "plt.axis([2, 20, 2, 15])\n",
    "\n",
    "plt.subplot(222)\n",
    "plt.plot(x,y2, 'ks')\n",
    "plt.axis([2, 20, 2, 15])\n",
    "\n",
    "plt.subplot(223)\n",
    "plt.plot(x,y3, 'ks')\n",
    "plt.axis([2, 20, 2, 15])\n",
    "\n",
    "plt.subplot(224)\n",
    "plt.plot(x4,y4, 'ks')\n",
    "plt.axis([2, 20, 2, 15]);\n"
   ]
  },
  {
   "cell_type": "markdown",
   "metadata": {},
   "source": [
    "## 2. Basic statistics\n",
    "\n",
    "For each dataset compute the following basic statistics:\n",
    "    * mean of y\n",
    "    * std of y\n",
    "    * correlation coefficient between x, y"
   ]
  },
  {
   "cell_type": "code",
   "execution_count": 10,
   "metadata": {},
   "outputs": [
    {
     "name": "stdout",
     "output_type": "stream",
     "text": [
      "mean=7.50, std=1.94, r=0.82\n",
      "mean=7.50, std=1.94, r=0.82\n",
      "mean=7.50, std=1.94, r=0.82\n",
      "mean=7.50, std=1.94, r=0.82\n"
     ]
    }
   ],
   "source": [
    "# verify the stats\n",
    "pairs = (x, y1), (x, y2), (x, y3), (x4, y4)\n",
    "for x_i, y_i in pairs:\n",
    "    print('mean=%1.2f, std=%1.2f, r=%1.2f' % (np.mean(y_i), np.std(y_i), np.corrcoef(x_i, y_i)[0][1]))"
   ]
  },
  {
   "cell_type": "markdown",
   "metadata": {},
   "source": [
    "## 3. Least-squares fits\n",
    "    * for each dataset compute the \n",
    "    * Plot the least-squares regression lines"
   ]
  },
  {
   "cell_type": "code",
   "execution_count": 13,
   "metadata": {},
   "outputs": [
    {
     "name": "stdout",
     "output_type": "stream",
     "text": [
      "[0.50009091 3.00009091]\n",
      "[0.5        3.00090909]\n",
      "[0.49972727 3.00245455]\n",
      "[0.49990909 3.00172727]\n"
     ]
    }
   ],
   "source": [
    "# calculate the coefficients\n",
    "def my_fit(x,y):\n",
    "    my_coef = np.polyfit(x,y,1)\n",
    "    my_val  = np.poly1d(my_coef) # create an object\n",
    "    return my_val(x)\n",
    "\n",
    "print(np.polyfit(x,y1,1))\n",
    "print(np.polyfit(x,y2,1))\n",
    "print(np.polyfit(x,y3,1))\n",
    "print(np.polyfit(x4,y4,1))"
   ]
  },
  {
   "cell_type": "code",
   "execution_count": 14,
   "metadata": {},
   "outputs": [
    {
     "data": {
      "image/png": "[encoded data removed]",
      "text/plain": [
       "<Figure size 432x288 with 4 Axes>"
      ]
     },
     "metadata": {},
     "output_type": "display_data"
    }
   ],
   "source": [
    "# Plot\n",
    "plt.subplot(221)\n",
    "plt.plot(x,y1, 'ks',label='data')\n",
    "plt.plot(x,my_fit(x,y1), color='red',   label='fit')\n",
    "plt.axis([2, 20, 2, 14])\n",
    "plt.setp(plt.gca(), yticklabels=[], yticks=(4, 8, 12), xticks=(0, 10, 20))\n",
    "plt.legend();\n",
    "\n",
    "plt.subplot(222)\n",
    "plt.plot(x,y2, 'ks',x, my_fit(x,y2), 'r-')\n",
    "plt.axis([2, 20, 2, 14])\n",
    "plt.setp(plt.gca(), yticklabels=[], yticks=(4, 8, 12), xticks=(0, 10, 20))\n",
    "\n",
    "plt.subplot(223)\n",
    "plt.plot(x,y3,'ks',x, my_fit(x,y3), 'r-')\n",
    "plt.axis([2, 20, 2, 14])\n",
    "plt.setp(plt.gca(), yticklabels=[], yticks=(4, 8, 12), xticks=(0, 10, 20))\n",
    "\n",
    "plt.subplot(224)\n",
    "plt.plot(x4,y4, 'ks', x4, my_fit(x4,y4), 'r-')\n",
    "plt.axis([2, 20, 2, 14])\n",
    "plt.setp(plt.gca(), yticklabels=[], yticks=(4, 8, 12), xticks=(0, 10, 20));\n"
   ]
  }
 ],
 "metadata": {
  "kernelspec": {
   "display_name": "Python 3",
   "language": "python",
   "name": "python3"
  },
  "language_info": {
   "codemirror_mode": {
    "name": "ipython",
    "version": 3
   },
   "file_extension": ".py",
   "mimetype": "text/x-python",
   "name": "python",
   "nbconvert_exporter": "python",
   "pygments_lexer": "ipython3",
   "version": "3.6.5"
  }
 },
 "nbformat": 4,
 "nbformat_minor": 2
}
